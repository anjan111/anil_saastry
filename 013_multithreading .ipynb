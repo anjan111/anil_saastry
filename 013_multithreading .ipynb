{
 "cells": [
  {
   "cell_type": "code",
   "execution_count": 4,
   "metadata": {},
   "outputs": [
    {
     "name": "stdout",
     "output_type": "stream",
     "text": [
      "start time :  1581954375.87\n",
      "name :  None\n",
      "name :  None\n",
      "name :  None\n",
      "name :  None\n",
      "name :  None\n",
      "name :  None\n",
      "name :  None\n",
      "name :  None\n",
      "name :  None\n",
      "name :  None\n",
      "start time :  1581954375.88\n"
     ]
    }
   ],
   "source": [
    "### threading\n",
    "'''\n",
    "--->> which is a light weight process\n",
    "--->> which can executes parallel to your program\n",
    "--->> functions are used for to create thread\n",
    "'''\n",
    "import time \n",
    "print \"start time : \" ,time.time()\n",
    "def fun(name =\"None\"):\n",
    "    for i in range(10):\n",
    "        print \"name : \",name\n",
    "fun()\n",
    "print \"start time : \", time.time()\n"
   ]
  },
  {
   "cell_type": "code",
   "execution_count": 5,
   "metadata": {},
   "outputs": [
    {
     "name": "stdout",
     "output_type": "stream",
     "text": [
      "start time :  1581954443.12\n",
      "name :  None\n",
      "name :  None\n",
      "name :  None\n",
      "name :  None\n",
      "name :  None\n",
      "name :  None\n",
      "name :  None\n",
      "name :  None\n",
      "name :  None\n",
      "name :  None\n",
      "start time :  1581954453.13\n"
     ]
    }
   ],
   "source": [
    "import time \n",
    "print \"start time : \" ,time.time()\n",
    "def fun(name =\"None\"):\n",
    "    for i in range(10):\n",
    "        time.sleep(1)\n",
    "        print \"name : \",name\n",
    "fun()\n",
    "print \"start time : \", time.time()"
   ]
  },
  {
   "cell_type": "code",
   "execution_count": 6,
   "metadata": {},
   "outputs": [
    {
     "name": "stdout",
     "output_type": "stream",
     "text": [
      "start time :  1581954630.08\n",
      "start time :  1581954630.08\n",
      "name :  Anjan\n",
      "name :  Anjan\n",
      "name :  Anjan\n",
      "name :  Anjan\n",
      "name :  Anjan\n",
      "name :  Anjan\n",
      "name :  Anjan\n",
      "name :  Anjan\n",
      "name :  Anjan\n",
      "name :  Anjan\n"
     ]
    }
   ],
   "source": [
    "import time\n",
    "import thread\n",
    "print \"start time : \" ,time.time()\n",
    "def fun(name =\"None\"):\n",
    "    for i in range(10):\n",
    "        time.sleep(1)\n",
    "        print \"name : \",name\n",
    "thread.start_new_thread(fun,(\"Anjan\",))\n",
    "print \"start time : \", time.time()"
   ]
  },
  {
   "cell_type": "code",
   "execution_count": 7,
   "metadata": {},
   "outputs": [
    {
     "name": "stdout",
     "output_type": "stream",
     "text": [
      "start time :  1581955270.34\n",
      "start time :  1581955270.34\n",
      "name : id :   345Anjan\n",
      "\n",
      "name : id :  345 \n",
      "Anjan\n",
      "id : name :  Anjan \n",
      "345\n",
      "id : name :   Anjan345\n",
      "\n",
      "name : id :   Anjan345\n",
      "\n",
      "id : name :  Anjan\n",
      " 345\n",
      "id : name :   345Anjan\n",
      "\n",
      "name :  Anjan\n",
      " id :  345\n",
      "name :  Anjan\n",
      "id :  345\n",
      "name :  Anjan\n",
      "id :  345\n"
     ]
    }
   ],
   "source": [
    "import time\n",
    "import thread\n",
    "print \"start time : \" ,time.time()\n",
    "\n",
    "def fun1(name =\"None\"):\n",
    "    for i in range(10):\n",
    "        time.sleep(1)\n",
    "        print \"name : \",name\n",
    "def fun2(id =\"None\"):\n",
    "    for i in range(10):\n",
    "        time.sleep(1)\n",
    "        print \"id : \",id        \n",
    "        \n",
    "thread.start_new_thread(fun1,(\"Anjan\",))\n",
    "thread.start_new_thread(fun2,(345,))\n",
    "print \"start time : \", time.time()"
   ]
  },
  {
   "cell_type": "code",
   "execution_count": 8,
   "metadata": {},
   "outputs": [
    {
     "name": "stdout",
     "output_type": "stream",
     "text": [
      "start time :  1581955421.06\n",
      "start time of fun1 :  1581955421.07\n",
      "name :  anjan\n",
      "name :  anjan\n",
      "name :  anjan\n",
      "name :  anjan\n",
      "name :  anjan\n",
      "name :  anjan\n",
      "name :  anjan\n",
      "name :  anjan\n",
      "name :  anjan\n",
      "name :  anjan\n",
      "stop time of fun1 :  1581955431.07\n",
      "start time of fun2 :  1581955431.08\n",
      "id :  345\n",
      "id :  345\n",
      "id :  345\n",
      "id :  345\n",
      "id :  345\n",
      "id :  345\n",
      "id :  345\n",
      "id :  345\n",
      "id :  345\n",
      "id :  345\n",
      "stop time of fun2 :  1581955441.09\n",
      "start time :  1581955441.09\n"
     ]
    }
   ],
   "source": [
    "import time\n",
    "import thread\n",
    "print \"start time : \" ,time.time()\n",
    "\n",
    "def fun1(name =\"None\"):\n",
    "    print \"start time of fun1 : \" ,time.time()\n",
    "    for i in range(10):\n",
    "        time.sleep(1)\n",
    "        print \"name : \",name\n",
    "    print \"stop time of fun1 : \", time.time()\n",
    "def fun2(id =\"None\"):\n",
    "    print \"start time of fun2 : \" ,time.time()\n",
    "    for i in range(10):\n",
    "        time.sleep(1)\n",
    "        print \"id : \",id        \n",
    "    print \"stop time of fun2 : \" ,time.time()\n",
    "fun1(\"anjan\")\n",
    "fun2(345)\n",
    "print \"start time : \", time.time()"
   ]
  },
  {
   "cell_type": "code",
   "execution_count": 9,
   "metadata": {},
   "outputs": [
    {
     "name": "stdout",
     "output_type": "stream",
     "text": [
      "start time :  1581955507.18\n",
      "start time :  1581955507.18\n",
      "start time of fun1 : start time of fun2 :   1581955507.19\n",
      "1581955507.19\n",
      "id :  345\n",
      "name :  Anjan\n",
      "id : name :   Anjan345\n",
      "\n",
      "id :  345\n",
      "name :  Anjan\n",
      "id :  345\n",
      "name :  Anjan\n",
      "id :  345\n",
      "name :  Anjan\n",
      "id :  345\n",
      "name :  Anjan\n",
      "id :  345\n",
      "name :  Anjan\n",
      "id :  345\n",
      "name :  Anjan\n",
      "id :  345name : \n",
      " Anjan\n",
      "id : name :  Anjan\n",
      " stop time of fun1 :  3451581955517.21\n",
      "\n",
      "stop time of fun2 :  1581955517.21\n"
     ]
    }
   ],
   "source": [
    "import time\n",
    "import thread\n",
    "print \"start time : \" ,time.time()\n",
    "\n",
    "def fun1(name =\"None\"):\n",
    "    print \"start time of fun1 : \" ,time.time()\n",
    "    for i in range(10):\n",
    "        time.sleep(1)\n",
    "        print \"name : \",name\n",
    "    print \"stop time of fun1 : \", time.time()\n",
    "def fun2(id =\"None\"):\n",
    "    print \"start time of fun2 : \" ,time.time()\n",
    "    for i in range(10):\n",
    "        time.sleep(1)\n",
    "        print \"id : \",id        \n",
    "    print \"stop time of fun2 : \" ,time.time()\n",
    "thread.start_new_thread(fun1,(\"Anjan\",))\n",
    "thread.start_new_thread(fun2,(345,))\n",
    "print \"start time : \", time.time()"
   ]
  },
  {
   "cell_type": "code",
   "execution_count": null,
   "metadata": {},
   "outputs": [],
   "source": []
  },
  {
   "cell_type": "code",
   "execution_count": null,
   "metadata": {},
   "outputs": [],
   "source": []
  }
 ],
 "metadata": {
  "kernelspec": {
   "display_name": "Python 2",
   "language": "python",
   "name": "python2"
  },
  "language_info": {
   "codemirror_mode": {
    "name": "ipython",
    "version": 2
   },
   "file_extension": ".py",
   "mimetype": "text/x-python",
   "name": "python",
   "nbconvert_exporter": "python",
   "pygments_lexer": "ipython2",
   "version": "2.7.16"
  }
 },
 "nbformat": 4,
 "nbformat_minor": 2
}
