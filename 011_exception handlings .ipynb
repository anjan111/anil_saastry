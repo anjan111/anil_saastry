{
 "cells": [
  {
   "cell_type": "markdown",
   "metadata": {},
   "source": [
    "##### Exception\n",
    "\n",
    "##### Error\n",
    "\n",
    "---->>> The mistake with in the program\n",
    "\n",
    "1. syntax error\n",
    "\n",
    "        --->>> whenever we miss the structure \n",
    "        \n",
    "2. runtime error\n",
    "\n",
    "        --->> while execution of the program we can get some error\n",
    "        \n",
    "        --->> BCZ of the runtime  the execution can stop middle ( Exception)\n",
    "        \n",
    "        \n",
    "####  handling  exception\n",
    "\n",
    "--->>> even if we got exception we don't want stop the program execution"
   ]
  },
  {
   "cell_type": "code",
   "execution_count": 1,
   "metadata": {},
   "outputs": [],
   "source": [
    "try :\n",
    "    \n",
    "    pass\n",
    "\n",
    "except :\n",
    "    \n",
    "    pass"
   ]
  },
  {
   "cell_type": "code",
   "execution_count": 2,
   "metadata": {},
   "outputs": [
    {
     "ename": "SyntaxError",
     "evalue": "EOL while scanning string literal (<ipython-input-2-ec7ca730d21a>, line 2)",
     "output_type": "error",
     "traceback": [
      "\u001b[1;36m  File \u001b[1;32m\"<ipython-input-2-ec7ca730d21a>\"\u001b[1;36m, line \u001b[1;32m2\u001b[0m\n\u001b[1;33m    print \"hai'\u001b[0m\n\u001b[1;37m              ^\u001b[0m\n\u001b[1;31mSyntaxError\u001b[0m\u001b[1;31m:\u001b[0m EOL while scanning string literal\n"
     ]
    }
   ],
   "source": [
    "print \"hello\"\n",
    "print \"hai'"
   ]
  },
  {
   "cell_type": "code",
   "execution_count": 3,
   "metadata": {},
   "outputs": [
    {
     "ename": "IOError",
     "evalue": "[Errno 2] No such file or directory: 'sample_1.txt'",
     "output_type": "error",
     "traceback": [
      "\u001b[1;31m---------------------------------------------------------------------------\u001b[0m",
      "\u001b[1;31mIOError\u001b[0m                                   Traceback (most recent call last)",
      "\u001b[1;32m<ipython-input-3-02974f9b9e45>\u001b[0m in \u001b[0;36m<module>\u001b[1;34m()\u001b[0m\n\u001b[1;32m----> 1\u001b[1;33m \u001b[0mfo\u001b[0m \u001b[1;33m=\u001b[0m \u001b[0mopen\u001b[0m\u001b[1;33m(\u001b[0m\u001b[1;34m\"sample_1.txt\"\u001b[0m\u001b[1;33m,\u001b[0m\u001b[1;34m\"r\"\u001b[0m\u001b[1;33m)\u001b[0m\u001b[1;33m\u001b[0m\u001b[0m\n\u001b[0m\u001b[0;32m      2\u001b[0m \u001b[0mfo\u001b[0m\u001b[1;33m.\u001b[0m\u001b[0mclose\u001b[0m\u001b[1;33m(\u001b[0m\u001b[1;33m)\u001b[0m\u001b[1;33m\u001b[0m\u001b[0m\n",
      "\u001b[1;31mIOError\u001b[0m: [Errno 2] No such file or directory: 'sample_1.txt'"
     ]
    }
   ],
   "source": [
    "fo = open(\"sample_1.txt\",\"r\")\n",
    "fo.close()"
   ]
  },
  {
   "cell_type": "code",
   "execution_count": 4,
   "metadata": {},
   "outputs": [
    {
     "ename": "ImportError",
     "evalue": "No module named fkjvfkvfkjb",
     "output_type": "error",
     "traceback": [
      "\u001b[1;31m---------------------------------------------------------------------------\u001b[0m",
      "\u001b[1;31mImportError\u001b[0m                               Traceback (most recent call last)",
      "\u001b[1;32m<ipython-input-4-657ab57877c3>\u001b[0m in \u001b[0;36m<module>\u001b[1;34m()\u001b[0m\n\u001b[1;32m----> 1\u001b[1;33m \u001b[1;32mimport\u001b[0m \u001b[0mfkjvfkvfkjb\u001b[0m\u001b[1;33m\u001b[0m\u001b[0m\n\u001b[0m",
      "\u001b[1;31mImportError\u001b[0m: No module named fkjvfkvfkjb"
     ]
    }
   ],
   "source": [
    "import fkjvfkvfkjb"
   ]
  },
  {
   "cell_type": "code",
   "execution_count": 5,
   "metadata": {},
   "outputs": [
    {
     "ename": "ZeroDivisionError",
     "evalue": "integer division or modulo by zero",
     "output_type": "error",
     "traceback": [
      "\u001b[1;31m---------------------------------------------------------------------------\u001b[0m",
      "\u001b[1;31mZeroDivisionError\u001b[0m                         Traceback (most recent call last)",
      "\u001b[1;32m<ipython-input-5-b673fc7d8693>\u001b[0m in \u001b[0;36m<module>\u001b[1;34m()\u001b[0m\n\u001b[1;32m----> 1\u001b[1;33m \u001b[1;32mprint\u001b[0m \u001b[1;36m10\u001b[0m\u001b[1;33m/\u001b[0m\u001b[1;36m0\u001b[0m\u001b[1;33m\u001b[0m\u001b[0m\n\u001b[0m",
      "\u001b[1;31mZeroDivisionError\u001b[0m: integer division or modulo by zero"
     ]
    }
   ],
   "source": [
    "print 10/0"
   ]
  },
  {
   "cell_type": "code",
   "execution_count": 6,
   "metadata": {},
   "outputs": [
    {
     "ename": "ValueError",
     "evalue": "invalid literal for int() with base 10: '12.23'",
     "output_type": "error",
     "traceback": [
      "\u001b[1;31m---------------------------------------------------------------------------\u001b[0m",
      "\u001b[1;31mValueError\u001b[0m                                Traceback (most recent call last)",
      "\u001b[1;32m<ipython-input-6-b04a50f6c2d1>\u001b[0m in \u001b[0;36m<module>\u001b[1;34m()\u001b[0m\n\u001b[1;32m----> 1\u001b[1;33m \u001b[0mint\u001b[0m\u001b[1;33m(\u001b[0m\u001b[1;34m\"12.23\"\u001b[0m\u001b[1;33m)\u001b[0m\u001b[1;33m\u001b[0m\u001b[0m\n\u001b[0m",
      "\u001b[1;31mValueError\u001b[0m: invalid literal for int() with base 10: '12.23'"
     ]
    }
   ],
   "source": [
    "int(\"12.23\")"
   ]
  },
  {
   "cell_type": "code",
   "execution_count": 7,
   "metadata": {},
   "outputs": [
    {
     "ename": "TypeError",
     "evalue": "can't convert complex to int",
     "output_type": "error",
     "traceback": [
      "\u001b[1;31m---------------------------------------------------------------------------\u001b[0m",
      "\u001b[1;31mTypeError\u001b[0m                                 Traceback (most recent call last)",
      "\u001b[1;32m<ipython-input-7-764aaacbb91a>\u001b[0m in \u001b[0;36m<module>\u001b[1;34m()\u001b[0m\n\u001b[1;32m----> 1\u001b[1;33m \u001b[0mint\u001b[0m\u001b[1;33m(\u001b[0m\u001b[1;36m1\u001b[0m\u001b[1;33m+\u001b[0m\u001b[1;36m4j\u001b[0m\u001b[1;33m)\u001b[0m\u001b[1;33m\u001b[0m\u001b[0m\n\u001b[0m",
      "\u001b[1;31mTypeError\u001b[0m: can't convert complex to int"
     ]
    }
   ],
   "source": [
    "int(1+4j)"
   ]
  },
  {
   "cell_type": "code",
   "execution_count": 10,
   "metadata": {},
   "outputs": [
    {
     "name": "stdout",
     "output_type": "stream",
     "text": [
      "hello\n",
      "hai\n",
      "no exception\n",
      "both cases \n"
     ]
    }
   ],
   "source": [
    "try:\n",
    "    print \"hello\"\n",
    "    print \"hai\"\n",
    "except:\n",
    "    print \"i am handling the exception\"\n",
    "else:\n",
    "    print\"no exception\"\n",
    "finally:\n",
    "    print \"both cases \""
   ]
  },
  {
   "cell_type": "code",
   "execution_count": 11,
   "metadata": {},
   "outputs": [
    {
     "name": "stdout",
     "output_type": "stream",
     "text": [
      "hello\n",
      "i am handling the exception\n",
      "both cases \n"
     ]
    }
   ],
   "source": [
    "try:\n",
    "    print \"hello\"\n",
    "    print 10/0\n",
    "    print \"hai\"\n",
    "except:\n",
    "    print \"i am handling the exception\"\n",
    "else:\n",
    "    print\"no exception\"\n",
    "finally:\n",
    "    print \"both cases \""
   ]
  },
  {
   "cell_type": "code",
   "execution_count": 12,
   "metadata": {},
   "outputs": [
    {
     "name": "stdout",
     "output_type": "stream",
     "text": [
      "hello\n",
      "i am handling the exception\n",
      "both cases \n"
     ]
    }
   ],
   "source": [
    "try:\n",
    "    print \"hello\"\n",
    "    raise\n",
    "    print \"hai\"\n",
    "except:\n",
    "    print \"i am handling the exception\"\n",
    "else:\n",
    "    print\"no exception\"\n",
    "finally:\n",
    "    print \"both cases \""
   ]
  },
  {
   "cell_type": "code",
   "execution_count": 14,
   "metadata": {},
   "outputs": [
    {
     "name": "stdout",
     "output_type": "stream",
     "text": [
      "hello\n",
      "hai\n",
      "no exception\n",
      "both cases \n"
     ]
    }
   ],
   "source": [
    "try:\n",
    "    print \"hello\"\n",
    "    \n",
    "    print \"hai\"\n",
    "except ValueError:\n",
    "    print \"value Error\"\n",
    "except TypeError:\n",
    "    print \"Type Error\"\n",
    "except:\n",
    "    print \"i am handling the exception\"\n",
    "else:\n",
    "    print\"no exception\"\n",
    "finally:\n",
    "    print \"both cases \""
   ]
  },
  {
   "cell_type": "code",
   "execution_count": 15,
   "metadata": {},
   "outputs": [
    {
     "name": "stdout",
     "output_type": "stream",
     "text": [
      "hello\n",
      "file Error\n",
      "both cases \n"
     ]
    }
   ],
   "source": [
    "try:\n",
    "    print \"hello\"\n",
    "    open (\"sample111\",'r')\n",
    "    print \"hai\"\n",
    "except ValueError:\n",
    "    print \"value Error\"\n",
    "except TypeError:\n",
    "    print \"Type Error\"\n",
    "except IOError:\n",
    "    print \"file Error\"\n",
    "except ImportError:\n",
    "    print \"Import File\"\n",
    "except:\n",
    "    print \"i am handling the exception\"\n",
    "else:\n",
    "    print\"no exception\"\n",
    "finally:\n",
    "    print \"both cases \""
   ]
  },
  {
   "cell_type": "code",
   "execution_count": 16,
   "metadata": {},
   "outputs": [
    {
     "name": "stdout",
     "output_type": "stream",
     "text": [
      "hello\n",
      "Import File\n",
      "both cases \n"
     ]
    }
   ],
   "source": [
    "try:\n",
    "    print \"hello\"\n",
    "    import JKNDJKDJKB\n",
    "    print \"hai\"\n",
    "except ValueError:\n",
    "    print \"value Error\"\n",
    "except TypeError:\n",
    "    print \"Type Error\"\n",
    "except IOError:\n",
    "    print \"file Error\"\n",
    "except ImportError:\n",
    "    print \"Import File\"\n",
    "except:\n",
    "    print \"i am handling the exception\"\n",
    "else:\n",
    "    print\"no exception\"\n",
    "finally:\n",
    "    print \"both cases \""
   ]
  },
  {
   "cell_type": "code",
   "execution_count": 17,
   "metadata": {},
   "outputs": [
    {
     "name": "stdout",
     "output_type": "stream",
     "text": [
      "hello\n",
      "value Error\n",
      "both cases \n"
     ]
    }
   ],
   "source": [
    "try:\n",
    "    print \"hello\"\n",
    "    int(\"12.244\")\n",
    "    print \"hai\"\n",
    "except ValueError:\n",
    "    print \"value Error\"\n",
    "except TypeError:\n",
    "    print \"Type Error\"\n",
    "except IOError:\n",
    "    print \"file Error\"\n",
    "except ImportError:\n",
    "    print \"Import File\"\n",
    "except:\n",
    "    print \"i am handling the exception\"\n",
    "else:\n",
    "    print\"no exception\"\n",
    "finally:\n",
    "    print \"both cases \""
   ]
  },
  {
   "cell_type": "code",
   "execution_count": 18,
   "metadata": {},
   "outputs": [
    {
     "name": "stdout",
     "output_type": "stream",
     "text": [
      "hello\n",
      "Type Error\n",
      "both cases \n"
     ]
    }
   ],
   "source": [
    "try:\n",
    "    print \"hello\"\n",
    "    int(3+4j)\n",
    "    print \"hai\"\n",
    "except ValueError:\n",
    "    print \"value Error\"\n",
    "except TypeError:\n",
    "    print \"Type Error\"\n",
    "except IOError:\n",
    "    print \"file Error\"\n",
    "except ImportError:\n",
    "    print \"Import File\"\n",
    "except:\n",
    "    print \"i am handling the exception\"\n",
    "else:\n",
    "    print\"no exception\"\n",
    "finally:\n",
    "    print \"both cases \""
   ]
  },
  {
   "cell_type": "code",
   "execution_count": null,
   "metadata": {},
   "outputs": [],
   "source": []
  },
  {
   "cell_type": "code",
   "execution_count": null,
   "metadata": {},
   "outputs": [],
   "source": []
  }
 ],
 "metadata": {
  "kernelspec": {
   "display_name": "Python 2",
   "language": "python",
   "name": "python2"
  },
  "language_info": {
   "codemirror_mode": {
    "name": "ipython",
    "version": 2
   },
   "file_extension": ".py",
   "mimetype": "text/x-python",
   "name": "python",
   "nbconvert_exporter": "python",
   "pygments_lexer": "ipython2",
   "version": "2.7.16"
  }
 },
 "nbformat": 4,
 "nbformat_minor": 2
}
