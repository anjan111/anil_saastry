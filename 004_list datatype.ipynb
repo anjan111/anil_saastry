{
 "cells": [
  {
   "cell_type": "code",
   "execution_count": 1,
   "metadata": {},
   "outputs": [
    {
     "name": "stdout",
     "output_type": "stream",
     "text": [
      "data in var :  []\n",
      "<type 'list'>\n"
     ]
    }
   ],
   "source": [
    "# list datatype\n",
    "'''\n",
    "===>> A single variable can hold multiple elements with in []\n",
    "'''\n",
    "var = []\n",
    "print \"data in var : \", var\n",
    "print type(var)"
   ]
  },
  {
   "cell_type": "code",
   "execution_count": 2,
   "metadata": {},
   "outputs": [
    {
     "name": "stdout",
     "output_type": "stream",
     "text": [
      "data in var :  [12, 2.3, (6+4j), None, True]\n",
      "<type 'list'>\n"
     ]
    }
   ],
   "source": [
    "# list datatype\n",
    "'''\n",
    "===>> A single variable can hold multiple elements with in []\n",
    "===>> The elements are different type elements -->> hetro genious datatype\n",
    "'''\n",
    "var = [12 ,2.3 , 6+4j ,None,True]\n",
    "print \"data in var : \", var\n",
    "print type(var)"
   ]
  },
  {
   "cell_type": "code",
   "execution_count": 5,
   "metadata": {},
   "outputs": [
    {
     "name": "stdout",
     "output_type": "stream",
     "text": [
      "8\n",
      "positive indexing \n",
      "12\n",
      "8\n",
      "4\n",
      "0\n",
      "3.2\n",
      "7\n",
      "2\n",
      "8\n",
      "Negative   indexing \n",
      "8\n",
      "2\n",
      "7\n",
      "3.2\n",
      "0\n",
      "4\n",
      "8\n",
      "12\n"
     ]
    }
   ],
   "source": [
    "# how to access the elements from list\n",
    "'''\n",
    "-->> indexing --->> at a time we can access single list element---->> [index]\n",
    "-->> slicing ---->> at a time we can access multiple list elements as a list---->> continous list elements--->>[start:stop]\n",
    "-->> dicing  ---->> at a time we can access multiple list elements as a list---->> periodical index elements-->[start:stop:step]\n",
    "'''\n",
    "# indexing --> positive indexing-->> 0 to len -1\n",
    "var = [12,8,4,0,3.2,7,2,8]\n",
    "print len(var)\n",
    "print \"positive indexing \"\n",
    "print var[0]\n",
    "print var[1]\n",
    "print var[2]\n",
    "print var[3]\n",
    "print var[4]\n",
    "print var[5]\n",
    "print var[6]\n",
    "print var[7]\n",
    "print \"Negative   indexing \"\n",
    "print var[-1]\n",
    "print var[-2]\n",
    "print var[-3]\n",
    "print var[-4]\n",
    "print var[-5]\n",
    "print var[-6]\n",
    "print var[-7]\n",
    "print var[-8]"
   ]
  },
  {
   "cell_type": "code",
   "execution_count": 6,
   "metadata": {},
   "outputs": [
    {
     "name": "stdout",
     "output_type": "stream",
     "text": [
      "[8, 4, 0, 3.2]\n",
      "[12, 8, 4, 0, 3.2]\n",
      "[8, 4, 0, 3.2, 7, 2, 8]\n"
     ]
    }
   ],
   "source": [
    "#list slicing \n",
    "var = [12,8,4,0,3.2,7,2,8]\n",
    "print var[1:5]\n",
    "print var[:5]#[12,8,4,0,3.2]\n",
    "print var[1:]#[8,4,0,3.2,7,2,8]"
   ]
  },
  {
   "cell_type": "code",
   "execution_count": 7,
   "metadata": {},
   "outputs": [
    {
     "name": "stdout",
     "output_type": "stream",
     "text": [
      "[8, 0, 7]\n",
      "[8, 4, 0, 3.2, 7, 2]\n",
      "[12, 0, 2]\n",
      "[12, 8, 4, 0, 3.2, 7, 2, 8]\n"
     ]
    }
   ],
   "source": [
    "# list dicing \n",
    "var = [12,8,4,0,3.2,7,2,8]\n",
    "print  var[1:7:2]# [8,0,7]\n",
    "print var[1:7:]#[8,4,0,3.2,7,2]\n",
    "print var[::3]\n",
    "print var[::]"
   ]
  },
  {
   "cell_type": "code",
   "execution_count": 8,
   "metadata": {},
   "outputs": [
    {
     "name": "stdout",
     "output_type": "stream",
     "text": [
      "[2, 4, 5, 2]\n",
      "5\n",
      "[2, 4, 100, 2]\n"
     ]
    }
   ],
   "source": [
    "# list is mutable datatype\n",
    "var = [2,4,5,2]\n",
    "print var\n",
    "print var[2]\n",
    "var[2] = 100\n",
    "print  var"
   ]
  },
  {
   "cell_type": "code",
   "execution_count": 9,
   "metadata": {},
   "outputs": [
    {
     "name": "stdout",
     "output_type": "stream",
     "text": [
      "5\n",
      "8\n",
      "2\n",
      "26\n"
     ]
    }
   ],
   "source": [
    "var =[5,8,2,8,3]\n",
    "# predefined functions \n",
    "print len(var)\n",
    "print max(var)\n",
    "print min(var)\n",
    "print sum(var)"
   ]
  },
  {
   "cell_type": "code",
   "execution_count": 10,
   "metadata": {},
   "outputs": [
    {
     "name": "stdout",
     "output_type": "stream",
     "text": [
      "[1, 2, 3, 4, 1, 2, 3, 4, 1, 2, 3, 4]\n"
     ]
    }
   ],
   "source": [
    "a = [1,2,3,4]\n",
    "b = [7,3,8]\n",
    "print a*3"
   ]
  },
  {
   "cell_type": "code",
   "execution_count": 11,
   "metadata": {},
   "outputs": [
    {
     "name": "stdout",
     "output_type": "stream",
     "text": [
      "[1, 2, 3, 4, 7, 3, 8]\n"
     ]
    }
   ],
   "source": [
    "a = [1,2,3,4]\n",
    "b = [7,3,8]\n",
    "print a + b"
   ]
  },
  {
   "cell_type": "code",
   "execution_count": 12,
   "metadata": {},
   "outputs": [
    {
     "name": "stdout",
     "output_type": "stream",
     "text": [
      "True\n"
     ]
    }
   ],
   "source": [
    "a = [1,2,3,4]\n",
    "b = 3\n",
    "print b in a"
   ]
  },
  {
   "cell_type": "code",
   "execution_count": 13,
   "metadata": {},
   "outputs": [
    {
     "name": "stdout",
     "output_type": "stream",
     "text": [
      "True\n",
      "False\n",
      "False\n",
      "True\n",
      "True\n",
      "False\n"
     ]
    }
   ],
   "source": [
    "a = [1,2,3,4]\n",
    "b = [7,3,8]\n",
    "print a < b\n",
    "print a > b\n",
    "print a == b\n",
    "print a != b\n",
    "print a <= b\n",
    "print a >= b"
   ]
  },
  {
   "cell_type": "code",
   "execution_count": 14,
   "metadata": {},
   "outputs": [
    {
     "name": "stdout",
     "output_type": "stream",
     "text": [
      "<type 'tuple'>\n"
     ]
    }
   ],
   "source": [
    "# same thing execute with tuple\n",
    "var = ()\n",
    "print type(var)"
   ]
  },
  {
   "cell_type": "code",
   "execution_count": 2,
   "metadata": {},
   "outputs": [
    {
     "name": "stdout",
     "output_type": "stream",
     "text": [
      "1\n",
      "2.3\n",
      "(5+3j)\n",
      "(5+3j)\n",
      "2.3\n",
      "1\n",
      "(1, 2.3)\n",
      "(1, (5+3j))\n"
     ]
    }
   ],
   "source": [
    "a =(1,2.3,5+3j)\n",
    "print a[0]\n",
    "print a[1]\n",
    "print a[2]\n",
    "print a[-1]\n",
    "print a[-2]\n",
    "print a[-3]\n",
    "print a[0:2]\n",
    "print a[0:3:2]"
   ]
  },
  {
   "cell_type": "code",
   "execution_count": 3,
   "metadata": {},
   "outputs": [
    {
     "name": "stdout",
     "output_type": "stream",
     "text": [
      "False\n",
      "True\n",
      "False\n",
      "True\n",
      "False\n",
      "True\n"
     ]
    }
   ],
   "source": [
    "a = (1,3)\n",
    "b = (1,2)\n",
    "print a < b\n",
    "print a > b\n",
    "print a == b\n",
    "print a!=b\n",
    "print a <= b\n",
    "print a >= b"
   ]
  },
  {
   "cell_type": "code",
   "execution_count": 4,
   "metadata": {},
   "outputs": [
    {
     "name": "stdout",
     "output_type": "stream",
     "text": [
      "(1, 2, 3)\n"
     ]
    },
    {
     "ename": "TypeError",
     "evalue": "'tuple' object does not support item assignment",
     "output_type": "error",
     "traceback": [
      "\u001b[1;31m---------------------------------------------------------------------------\u001b[0m",
      "\u001b[1;31mTypeError\u001b[0m                                 Traceback (most recent call last)",
      "\u001b[1;32m<ipython-input-4-1ccefa44610f>\u001b[0m in \u001b[0;36m<module>\u001b[1;34m()\u001b[0m\n\u001b[0;32m      1\u001b[0m \u001b[0ma\u001b[0m \u001b[1;33m=\u001b[0m \u001b[1;33m(\u001b[0m\u001b[1;36m1\u001b[0m\u001b[1;33m,\u001b[0m\u001b[1;36m2\u001b[0m\u001b[1;33m,\u001b[0m\u001b[1;36m3\u001b[0m\u001b[1;33m)\u001b[0m\u001b[1;33m\u001b[0m\u001b[0m\n\u001b[0;32m      2\u001b[0m \u001b[1;32mprint\u001b[0m \u001b[0ma\u001b[0m\u001b[1;33m\u001b[0m\u001b[0m\n\u001b[1;32m----> 3\u001b[1;33m \u001b[0ma\u001b[0m\u001b[1;33m[\u001b[0m\u001b[1;36m1\u001b[0m\u001b[1;33m]\u001b[0m\u001b[1;33m=\u001b[0m\u001b[1;36m20\u001b[0m\u001b[1;33m\u001b[0m\u001b[0m\n\u001b[0m",
      "\u001b[1;31mTypeError\u001b[0m: 'tuple' object does not support item assignment"
     ]
    }
   ],
   "source": [
    "a = (1,2,3)\n",
    "print a\n",
    "a[1]=20\n"
   ]
  },
  {
   "cell_type": "code",
   "execution_count": 5,
   "metadata": {},
   "outputs": [
    {
     "name": "stdout",
     "output_type": "stream",
     "text": [
      "[]\n",
      "[20]\n",
      "[20, 45]\n",
      "[20, 45, 34]\n"
     ]
    }
   ],
   "source": [
    "a = []\n",
    "print a\n",
    "a.append(20)\n",
    "print a\n",
    "a.append(45)\n",
    "print a\n",
    "a.append(34)\n",
    "print a"
   ]
  },
  {
   "cell_type": "code",
   "execution_count": 7,
   "metadata": {},
   "outputs": [
    {
     "name": "stdout",
     "output_type": "stream",
     "text": [
      "[1, 2, 4]\n"
     ]
    }
   ],
   "source": [
    "a =[1,2,4]\n",
    "print a\n"
   ]
  },
  {
   "cell_type": "code",
   "execution_count": 8,
   "metadata": {},
   "outputs": [
    {
     "name": "stdout",
     "output_type": "stream",
     "text": [
      "['__add__', '__class__', '__contains__', '__delattr__', '__delitem__', '__delslice__', '__doc__', '__eq__', '__format__', '__ge__', '__getattribute__', '__getitem__', '__getslice__', '__gt__', '__hash__', '__iadd__', '__imul__', '__init__', '__iter__', '__le__', '__len__', '__lt__', '__mul__', '__ne__', '__new__', '__reduce__', '__reduce_ex__', '__repr__', '__reversed__', '__rmul__', '__setattr__', '__setitem__', '__setslice__', '__sizeof__', '__str__', '__subclasshook__', 'append', 'count', 'extend', 'index', 'insert', 'pop', 'remove', 'reverse', 'sort']\n"
     ]
    }
   ],
   "source": [
    "print dir(list)"
   ]
  },
  {
   "cell_type": "code",
   "execution_count": 9,
   "metadata": {},
   "outputs": [
    {
     "name": "stdout",
     "output_type": "stream",
     "text": [
      "2\n"
     ]
    }
   ],
   "source": [
    "a =[45,67,34,67,45]\n",
    "print a.count(67)"
   ]
  },
  {
   "cell_type": "code",
   "execution_count": 10,
   "metadata": {},
   "outputs": [
    {
     "name": "stdout",
     "output_type": "stream",
     "text": [
      "[1, 2, 4]\n",
      "[5, 6, 7]\n",
      "[1, 2, 4, 5, 6, 7]\n",
      "[5, 6, 7]\n"
     ]
    }
   ],
   "source": [
    "a = [1,2,4]\n",
    "b = [5,6,7]\n",
    "print a\n",
    "print b\n",
    "a.extend(b)\n",
    "print a\n",
    "print b"
   ]
  },
  {
   "cell_type": "code",
   "execution_count": 11,
   "metadata": {},
   "outputs": [
    {
     "name": "stdout",
     "output_type": "stream",
     "text": [
      "2\n"
     ]
    }
   ],
   "source": [
    "a=[67,56,34,90,2]\n",
    "print a.index(34)"
   ]
  },
  {
   "cell_type": "code",
   "execution_count": 13,
   "metadata": {},
   "outputs": [
    {
     "name": "stdout",
     "output_type": "stream",
     "text": [
      "[45, 56, 34, 2, 90]\n",
      "[45, 56, 67, 34, 2, 90]\n"
     ]
    }
   ],
   "source": [
    "a =[45,56,34,2,90]\n",
    "print a\n",
    "a.insert(2,67)\n",
    "print a"
   ]
  },
  {
   "cell_type": "code",
   "execution_count": 16,
   "metadata": {},
   "outputs": [
    {
     "name": "stdout",
     "output_type": "stream",
     "text": [
      "2\n",
      "[12, 78, 34, 90]\n"
     ]
    }
   ],
   "source": [
    "var = [12,78,34,90,2]\n",
    "print var.pop()\n",
    "print var"
   ]
  },
  {
   "cell_type": "code",
   "execution_count": null,
   "metadata": {},
   "outputs": [],
   "source": []
  },
  {
   "cell_type": "code",
   "execution_count": 17,
   "metadata": {},
   "outputs": [
    {
     "name": "stdout",
     "output_type": "stream",
     "text": [
      "34\n",
      "[12, 78, 90, 2]\n"
     ]
    }
   ],
   "source": [
    "var = [12,78,34,90,2]\n",
    "print var.pop(2)\n",
    "print var"
   ]
  },
  {
   "cell_type": "code",
   "execution_count": 18,
   "metadata": {},
   "outputs": [
    {
     "name": "stdout",
     "output_type": "stream",
     "text": [
      "None\n",
      "[12, 78, 90, 2]\n"
     ]
    }
   ],
   "source": [
    "var = [12,78,34,90,2]\n",
    "print var.remove(34)\n",
    "print var"
   ]
  },
  {
   "cell_type": "code",
   "execution_count": 20,
   "metadata": {},
   "outputs": [
    {
     "name": "stdout",
     "output_type": "stream",
     "text": [
      "[12, 78, 34, 90, 2]\n",
      "[2, 12, 34, 78, 90]\n"
     ]
    }
   ],
   "source": [
    "var = [12,78,34,90,2]\n",
    "print var\n",
    "var.sort()\n",
    "print var"
   ]
  },
  {
   "cell_type": "code",
   "execution_count": 21,
   "metadata": {},
   "outputs": [
    {
     "name": "stdout",
     "output_type": "stream",
     "text": [
      "[12, 78, 34, 90, 2]\n",
      "[2, 90, 34, 78, 12]\n"
     ]
    }
   ],
   "source": [
    "var = [12,78,34,90,2]\n",
    "print var\n",
    "var.reverse()\n",
    "print var"
   ]
  },
  {
   "cell_type": "code",
   "execution_count": null,
   "metadata": {},
   "outputs": [],
   "source": []
  },
  {
   "cell_type": "code",
   "execution_count": null,
   "metadata": {},
   "outputs": [],
   "source": []
  },
  {
   "cell_type": "code",
   "execution_count": null,
   "metadata": {},
   "outputs": [],
   "source": []
  },
  {
   "cell_type": "code",
   "execution_count": null,
   "metadata": {},
   "outputs": [],
   "source": []
  },
  {
   "cell_type": "code",
   "execution_count": null,
   "metadata": {},
   "outputs": [],
   "source": []
  },
  {
   "cell_type": "code",
   "execution_count": null,
   "metadata": {},
   "outputs": [],
   "source": []
  },
  {
   "cell_type": "code",
   "execution_count": null,
   "metadata": {},
   "outputs": [],
   "source": []
  }
 ],
 "metadata": {
  "kernelspec": {
   "display_name": "Python 2",
   "language": "python",
   "name": "python2"
  },
  "language_info": {
   "codemirror_mode": {
    "name": "ipython",
    "version": 2
   },
   "file_extension": ".py",
   "mimetype": "text/x-python",
   "name": "python",
   "nbconvert_exporter": "python",
   "pygments_lexer": "ipython2",
   "version": "2.7.16"
  }
 },
 "nbformat": 4,
 "nbformat_minor": 2
}
