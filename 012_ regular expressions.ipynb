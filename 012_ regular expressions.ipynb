{
 "cells": [
  {
   "cell_type": "code",
   "execution_count": 1,
   "metadata": {},
   "outputs": [
    {
     "name": "stdout",
     "output_type": "stream",
     "text": [
      "<_sre.SRE_Match object at 0x0000000004DE16B0>\n"
     ]
    }
   ],
   "source": [
    "### --->> to extract the regular data from files\n",
    "### --->> to delete the regular data from files\n",
    "### --->> validation\n",
    "##########  re  modules  ######\n",
    "'''\n",
    "search()\n",
    "match()\n",
    "findall()\n",
    "sub()\n",
    "compile()\n",
    "'''\n",
    "import re\n",
    "var = \"python programming language\"\n",
    "print re.search('gram',var)"
   ]
  },
  {
   "cell_type": "code",
   "execution_count": 2,
   "metadata": {},
   "outputs": [
    {
     "name": "stdout",
     "output_type": "stream",
     "text": [
      "None\n"
     ]
    }
   ],
   "source": [
    "import re\n",
    "var = \"python programming language\"\n",
    "print re.search('gram1',var)"
   ]
  },
  {
   "cell_type": "code",
   "execution_count": 3,
   "metadata": {},
   "outputs": [
    {
     "name": "stdout",
     "output_type": "stream",
     "text": [
      "None\n"
     ]
    }
   ],
   "source": [
    "import re\n",
    "var = \"python programming language\"\n",
    "print re.match('gram',var)"
   ]
  },
  {
   "cell_type": "code",
   "execution_count": 4,
   "metadata": {},
   "outputs": [
    {
     "name": "stdout",
     "output_type": "stream",
     "text": [
      "<_sre.SRE_Match object at 0x0000000004DE1648>\n"
     ]
    }
   ],
   "source": [
    "import re\n",
    "var = \"python programming language\"\n",
    "print re.match('python',var)"
   ]
  },
  {
   "cell_type": "code",
   "execution_count": 5,
   "metadata": {},
   "outputs": [
    {
     "name": "stdout",
     "output_type": "stream",
     "text": [
      "['python', 'python']\n"
     ]
    }
   ],
   "source": [
    "import re\n",
    "var = \"python programming language python lan\"\n",
    "print re.findall('python',var)"
   ]
  },
  {
   "cell_type": "code",
   "execution_count": 6,
   "metadata": {},
   "outputs": [
    {
     "name": "stdout",
     "output_type": "stream",
     "text": [
      "PYTHON programming language\n"
     ]
    }
   ],
   "source": [
    "import re\n",
    "var = \"python programming language\"\n",
    "print re.sub('python',\"PYTHON\",var)"
   ]
  },
  {
   "cell_type": "code",
   "execution_count": 8,
   "metadata": {},
   "outputs": [
    {
     "name": "stdout",
     "output_type": "stream",
     "text": [
      "<_sre.SRE_Match object at 0x0000000004DE1D30>\n",
      "<_sre.SRE_Match object at 0x0000000004DE1D30>\n",
      "['python', 'python']\n",
      "PYTHON programming language PYTHON\n"
     ]
    }
   ],
   "source": [
    "import re\n",
    "var = \"python programming language python\"\n",
    "ptr = re.compile('python')\n",
    "print ptr.search(var)\n",
    "print ptr.match(var)\n",
    "print ptr.findall(var)\n",
    "print ptr.sub('PYTHON',var)"
   ]
  },
  {
   "cell_type": "code",
   "execution_count": 9,
   "metadata": {},
   "outputs": [
    {
     "name": "stdout",
     "output_type": "stream",
     "text": [
      "['an', 'an', 'ar', 'a ', 'a9', 'a#']\n"
     ]
    }
   ],
   "source": [
    "# . ---->>> to match any single character\n",
    "import re\n",
    "var = \"anjan Kumar a kkdsa9sjdjsa#\"\n",
    "print re.findall('a.',var)"
   ]
  },
  {
   "cell_type": "code",
   "execution_count": 10,
   "metadata": {},
   "outputs": [
    {
     "name": "stdout",
     "output_type": "stream",
     "text": [
      "['an', 'an', 'ar']\n"
     ]
    }
   ],
   "source": [
    "# [] ---->>> to match any single character from square brackets\n",
    "import re\n",
    "var = \"anjan Kumar a kkdsa9sjdjsa#\"\n",
    "print re.findall('a[a-zA-Z]',var)"
   ]
  },
  {
   "cell_type": "code",
   "execution_count": 11,
   "metadata": {},
   "outputs": [
    {
     "name": "stdout",
     "output_type": "stream",
     "text": [
      "['a9']\n"
     ]
    }
   ],
   "source": [
    "# [] ---->>> to match any single character from square brackets\n",
    "import re\n",
    "var = \"anjan Kumar a kkdsa9sjdjsa#\"\n",
    "print re.findall('a[0-9]',var)"
   ]
  },
  {
   "cell_type": "code",
   "execution_count": 12,
   "metadata": {},
   "outputs": [
    {
     "name": "stdout",
     "output_type": "stream",
     "text": [
      "['a ', 'a#']\n"
     ]
    }
   ],
   "source": [
    "# [] ---->>> to match any single character from square brackets\n",
    "import re\n",
    "var = \"anjan Kumar a kkdsa9sjdjsa#\"\n",
    "print re.findall('a[ 456#]',var)"
   ]
  },
  {
   "cell_type": "code",
   "execution_count": 13,
   "metadata": {},
   "outputs": [
    {
     "name": "stdout",
     "output_type": "stream",
     "text": [
      "['a9']\n"
     ]
    }
   ],
   "source": [
    "# \\d ---->>> to match any single digit\n",
    "import re\n",
    "var = \"anjan Kumar a kkdsa9sjdjsa#\"\n",
    "print re.findall('a\\d',var)"
   ]
  },
  {
   "cell_type": "code",
   "execution_count": 14,
   "metadata": {},
   "outputs": [
    {
     "name": "stdout",
     "output_type": "stream",
     "text": [
      "['a ']\n"
     ]
    }
   ],
   "source": [
    "# \\s ---->>> to match any single space\n",
    "import re\n",
    "var = \"anjan Kumar a kkdsa9sjdjsa#\"\n",
    "print re.findall('a\\s',var)"
   ]
  },
  {
   "cell_type": "code",
   "execution_count": 15,
   "metadata": {},
   "outputs": [
    {
     "name": "stdout",
     "output_type": "stream",
     "text": [
      "['an', 'an', 'ar', 'a ', 'a#']\n"
     ]
    }
   ],
   "source": [
    "# \\D ---->>> to match any single character except digit\n",
    "import re\n",
    "var = \"anjan Kumar a kkdsa9sjdjsa#\"\n",
    "print re.findall('a\\D',var)"
   ]
  },
  {
   "cell_type": "code",
   "execution_count": 16,
   "metadata": {},
   "outputs": [
    {
     "name": "stdout",
     "output_type": "stream",
     "text": [
      "['an', 'an', 'ar', 'a9', 'a#']\n"
     ]
    }
   ],
   "source": [
    "# \\S ---->>> to match any single character excpet spac\n",
    "import re\n",
    "var = \"anjan Kumar a kkdsa9sjdjsa#\"\n",
    "print re.findall('a\\S',var)"
   ]
  },
  {
   "cell_type": "code",
   "execution_count": 17,
   "metadata": {},
   "outputs": [
    {
     "name": "stdout",
     "output_type": "stream",
     "text": [
      "['an', 'an', 'ar', 'a9']\n"
     ]
    }
   ],
   "source": [
    "# \\w---->>> to match any single digit or alphabets\n",
    "import re\n",
    "var = \"anjan Kumar a kkdsa9sjdjsa#\"\n",
    "print re.findall('a\\w',var)"
   ]
  },
  {
   "cell_type": "code",
   "execution_count": 18,
   "metadata": {},
   "outputs": [
    {
     "name": "stdout",
     "output_type": "stream",
     "text": [
      "['a ', 'a#']\n"
     ]
    }
   ],
   "source": [
    "# \\W ---->>> to match any single special character\n",
    "import re\n",
    "var = \"anjan Kumar a kkdsa9sjdjsa#\"\n",
    "print re.findall('a\\W',var)"
   ]
  },
  {
   "cell_type": "code",
   "execution_count": null,
   "metadata": {},
   "outputs": [],
   "source": []
  },
  {
   "cell_type": "code",
   "execution_count": null,
   "metadata": {},
   "outputs": [],
   "source": []
  }
 ],
 "metadata": {
  "kernelspec": {
   "display_name": "Python 2",
   "language": "python",
   "name": "python2"
  },
  "language_info": {
   "codemirror_mode": {
    "name": "ipython",
    "version": 2
   },
   "file_extension": ".py",
   "mimetype": "text/x-python",
   "name": "python",
   "nbconvert_exporter": "python",
   "pygments_lexer": "ipython2",
   "version": "2.7.16"
  }
 },
 "nbformat": 4,
 "nbformat_minor": 2
}
