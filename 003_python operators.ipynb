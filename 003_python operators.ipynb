{
 "cells": [
  {
   "cell_type": "code",
   "execution_count": 3,
   "metadata": {},
   "outputs": [
    {
     "name": "stdout",
     "output_type": "stream",
     "text": [
      "unary operator\n",
      "34\n",
      "-45\n",
      "False\n",
      "-68\n",
      "binary operators\n",
      "57\n",
      "11\n",
      "True\n",
      "True\n",
      "34\n"
     ]
    }
   ],
   "source": [
    "# operator\n",
    "\n",
    "'''\n",
    "-->> The symbols are used for to do the operation on operands\n",
    "'''\n",
    "# operation\n",
    "'''\n",
    "--->> the process of solving the equations\n",
    "'''\n",
    "# operand \n",
    "'''\n",
    "--->> the data with in the operations \n",
    "'''\n",
    "# Based on 2 ways\n",
    "'''\n",
    "1. Based on operands \n",
    "\n",
    "2. Based on operations\n",
    "'''\n",
    "# Based on Operands ---->> no of operands with in the operation\n",
    "print \"unary operator\"\n",
    "'''\n",
    "1. unary operator\n",
    "\n",
    "    ===>>> A single operator is operating on single operand\n",
    "    + , - , not , ~ ----->> examples for unary operators\n",
    "'''\n",
    "print + 34  # unary plus\n",
    "print - 45  # unary minus\n",
    "print not True # logical not\n",
    "print ~ 67 # bitwise not\n",
    "print \"binary operators\"\n",
    "'''\n",
    "2. binary operator\n",
    "\n",
    "    ===>>> A single operator is operating on the 2 operands\n",
    "'''\n",
    "print  12 +  45\n",
    "print  34 -  23\n",
    "print 12  <  34\n",
    "print 45  == 45\n",
    "print 34  or 23"
   ]
  },
  {
   "cell_type": "code",
   "execution_count": 4,
   "metadata": {},
   "outputs": [
    {
     "name": "stdout",
     "output_type": "stream",
     "text": [
      "add :  47\n",
      "sub :  43\n",
      "mul :  90\n",
      "div :  22\n",
      "rem :  1\n"
     ]
    }
   ],
   "source": [
    "# Based on the operations \n",
    "'''\n",
    "-->>> Arithmetic Operator\n",
    "-->>> Relational Operators\n",
    "-->>> Logical Operators\n",
    "-->>> Special Operators\n",
    "-->>> Assignment operator\n",
    "-->>> Bitwise operators\n",
    "'''\n",
    "# Arithmetic Operators\n",
    "'''\n",
    "1. addition        +\n",
    "2. subtraction     -\n",
    "3. Multiplpication *\n",
    "4. division        /\n",
    "5. modulus         %\n",
    "'''\n",
    "a = 45\n",
    "b = 2\n",
    "print \"add : \",a+b\n",
    "print \"sub : \",a-b\n",
    "print \"mul : \",a * b\n",
    "print \"div : \",a/b\n",
    "print \"rem : \",a%b"
   ]
  },
  {
   "cell_type": "code",
   "execution_count": 5,
   "metadata": {},
   "outputs": [
    {
     "name": "stdout",
     "output_type": "stream",
     "text": [
      "add :  47.0\n",
      "sub :  43.0\n",
      "mul :  90.0\n",
      "div :  22.5\n",
      "rem :  1.0\n"
     ]
    }
   ],
   "source": [
    "a = 45.0\n",
    "b = 2\n",
    "print \"add : \",a+b\n",
    "print \"sub : \",a-b\n",
    "print \"mul : \",a * b\n",
    "print \"div : \",a/b\n",
    "print \"rem : \",a%b"
   ]
  },
  {
   "cell_type": "code",
   "execution_count": 7,
   "metadata": {},
   "outputs": [
    {
     "name": "stdout",
     "output_type": "stream",
     "text": [
      "22\n",
      "22\n",
      "22.5\n",
      "22.0\n"
     ]
    }
   ],
   "source": [
    "'''\n",
    "--->> floor devision    //\n",
    "--->> exponant          **\n",
    "'''\n",
    "a = 45\n",
    "b = 2\n",
    "print a/b\n",
    "print a // b\n",
    "a = 45.0\n",
    "b = 2\n",
    "print a/b\n",
    "print a // b"
   ]
  },
  {
   "cell_type": "code",
   "execution_count": 8,
   "metadata": {},
   "outputs": [
    {
     "name": "stdout",
     "output_type": "stream",
     "text": [
      "1000\n",
      "144\n",
      "32\n"
     ]
    }
   ],
   "source": [
    "print 10 ** 3\n",
    "print 12  ** 2\n",
    "print 2  ** 5"
   ]
  },
  {
   "cell_type": "code",
   "execution_count": 1,
   "metadata": {},
   "outputs": [
    {
     "name": "stdout",
     "output_type": "stream",
     "text": [
      "enter raduis in meters : 5\n",
      "area :  78.5714285714  sq . m \n"
     ]
    }
   ],
   "source": [
    "# wap find the are of circle  ( pi * ( r **2))\n",
    "r = input(\"enter raduis in meters : \")\n",
    "pi = 22.0/7\n",
    "area = pi*(r ** 2)\n",
    "print \"area : \",area,\" sq . m \""
   ]
  },
  {
   "cell_type": "code",
   "execution_count": null,
   "metadata": {},
   "outputs": [],
   "source": [
    "# wap find the area and perimeter of square\n",
    "# wap find the area and perimeter of rectangle\n",
    "# wap find the area and perimeter of triangle\n",
    "# wap find the area and volume of cube\n",
    "# wap find the simple interest "
   ]
  },
  {
   "cell_type": "code",
   "execution_count": 1,
   "metadata": {},
   "outputs": [
    {
     "name": "stdout",
     "output_type": "stream",
     "text": [
      "12  <  10  ==>>   False\n",
      "12  >  10  ==>>   True\n",
      "12  ==  10  ==>>   False\n",
      "12  !=  10  ==>>   True\n",
      "12  <=  10  ==>>   False\n",
      "12  >=  10  ==>>   True\n"
     ]
    }
   ],
   "source": [
    "# Relational Operators\n",
    "'''\n",
    "--->>> to compare any  two operands\n",
    "--->>> we can use as a conditions \n",
    "--->>> the results  ( True / False) --->> Boolean Operators\n",
    "'''\n",
    "# less than       < \n",
    "# greater than    >\n",
    "# equal too       ==\n",
    "# not equal to    !=\n",
    "# lessthan or equal too   <=\n",
    "# greaterthan or equal too  >=\n",
    "'''\n",
    "wap for understanding the relational operators\n",
    "'''\n",
    "a = 12\n",
    "b = 10\n",
    "print a,\" < \",b,\" ==>>  \", a<b\n",
    "print a,\" > \",b,\" ==>>  \", a>b\n",
    "print a,\" == \",b,\" ==>>  \", a==b\n",
    "print a,\" != \",b,\" ==>>  \", a!=b\n",
    "print a,\" <= \",b,\" ==>>  \", a<=b\n",
    "print a,\" >= \",b,\" ==>>  \", a>=b\n"
   ]
  },
  {
   "cell_type": "code",
   "execution_count": 2,
   "metadata": {},
   "outputs": [
    {
     "name": "stdout",
     "output_type": "stream",
     "text": [
      "12  <  12  ==>>   False\n",
      "12  >  12  ==>>   False\n",
      "12  ==  12  ==>>   True\n",
      "12  !=  12  ==>>   False\n",
      "12  <=  12  ==>>   True\n",
      "12  >=  12  ==>>   True\n"
     ]
    }
   ],
   "source": [
    "a = 12\n",
    "b = 12\n",
    "print a,\" < \",b,\" ==>>  \", a<b\n",
    "print a,\" > \",b,\" ==>>  \", a>b\n",
    "print a,\" == \",b,\" ==>>  \", a==b\n",
    "print a,\" != \",b,\" ==>>  \", a!=b\n",
    "print a,\" <= \",b,\" ==>>  \", a<=b\n",
    "print a,\" >= \",b,\" ==>>  \", a>=b"
   ]
  },
  {
   "cell_type": "code",
   "execution_count": 3,
   "metadata": {},
   "outputs": [
    {
     "name": "stdout",
     "output_type": "stream",
     "text": [
      "12  <  15  ==>>   True\n",
      "12  >  15  ==>>   False\n",
      "12  ==  15  ==>>   False\n",
      "12  !=  15  ==>>   True\n",
      "12  <=  15  ==>>   True\n",
      "12  >=  15  ==>>   False\n"
     ]
    }
   ],
   "source": [
    "a = 12\n",
    "b = 15\n",
    "print a,\" < \",b,\" ==>>  \", a<b\n",
    "print a,\" > \",b,\" ==>>  \", a>b\n",
    "print a,\" == \",b,\" ==>>  \", a==b\n",
    "print a,\" != \",b,\" ==>>  \", a!=b\n",
    "print a,\" <= \",b,\" ==>>  \", a<=b\n",
    "print a,\" >= \",b,\" ==>>  \", a>=b"
   ]
  },
  {
   "cell_type": "code",
   "execution_count": 4,
   "metadata": {},
   "outputs": [
    {
     "name": "stdout",
     "output_type": "stream",
     "text": [
      "enter a number : 14\n",
      "14  is even :  True\n"
     ]
    }
   ],
   "source": [
    "#wap find the given number is even or not \n",
    "num = input(\"enter a number : \")\n",
    "rem = num % 2\n",
    "print num,\" is even : \",rem == 0"
   ]
  },
  {
   "cell_type": "code",
   "execution_count": 5,
   "metadata": {},
   "outputs": [
    {
     "name": "stdout",
     "output_type": "stream",
     "text": [
      "enter a number : 75\n",
      "75  is even :  False\n"
     ]
    }
   ],
   "source": [
    "#wap find the given number is even or not \n",
    "num = input(\"enter a number : \")\n",
    "rem = num % 2\n",
    "print num,\" is even : \",rem == 0"
   ]
  },
  {
   "cell_type": "code",
   "execution_count": 7,
   "metadata": {},
   "outputs": [
    {
     "name": "stdout",
     "output_type": "stream",
     "text": [
      "12\n",
      "12\n",
      "179\n"
     ]
    }
   ],
   "source": [
    "# Assignment operators \n",
    "'''\n",
    "to assign the data from right side to left side variable\n",
    "'''\n",
    "var  = 12 # constant to variable\n",
    "b   = var # variable to variable\n",
    "c = b *12 + var+23# expression to variable\n",
    "print var\n",
    "print b\n",
    "print c"
   ]
  },
  {
   "cell_type": "code",
   "execution_count": 8,
   "metadata": {},
   "outputs": [
    {
     "name": "stdout",
     "output_type": "stream",
     "text": [
      "12\n",
      "23\n",
      "35\n",
      "23\n"
     ]
    }
   ],
   "source": [
    "# compound assignment \n",
    "a = 12\n",
    "b = 23\n",
    "print a\n",
    "print b\n",
    "a = a+b # addition then update # speed is less\n",
    "print a\n",
    "print b"
   ]
  },
  {
   "cell_type": "code",
   "execution_count": 9,
   "metadata": {},
   "outputs": [
    {
     "name": "stdout",
     "output_type": "stream",
     "text": [
      "12\n",
      "23\n",
      "35\n",
      "23\n"
     ]
    }
   ],
   "source": [
    "a = 12\n",
    "b = 23\n",
    "print a\n",
    "print b\n",
    "a += b   #a = a+b # addition then update # speed is more\n",
    "print a\n",
    "print b"
   ]
  },
  {
   "cell_type": "code",
   "execution_count": 10,
   "metadata": {},
   "outputs": [
    {
     "name": "stdout",
     "output_type": "stream",
     "text": [
      "12\n",
      "23\n",
      "-11\n",
      "23\n"
     ]
    }
   ],
   "source": [
    "a = 12\n",
    "b = 23\n",
    "print a\n",
    "print b\n",
    "a -= b   #a = a-b # subtraction then update # speed is more\n",
    "print a\n",
    "print b"
   ]
  },
  {
   "cell_type": "code",
   "execution_count": 11,
   "metadata": {},
   "outputs": [
    {
     "name": "stdout",
     "output_type": "stream",
     "text": [
      "34\n",
      "23\n",
      "0\n",
      "2\n"
     ]
    }
   ],
   "source": [
    "# logical operator\n",
    "'''\n",
    "--->>> Logical OR---->>>    or\n",
    "--->>> Logical AND--->>>   and\n",
    "--->>> Logical NOT---->>>   not\n",
    "'''\n",
    "# Logical or --->> OR\n",
    "'''\n",
    "ip1 or  ip2 ---->>>> ip1  / ip2\n",
    "\n",
    "res --->> ip1 ,   when ip1 is True case\n",
    "res --->> ip2 ,  when ip1 is False case\n",
    "'''\n",
    "# int  ,   0 ---->> False  ,   +ve / -ve ---> True\n",
    "# float,   0.0 -->> False ,   +ve/-ve ----->> True\n",
    "# complex  0+0j -->> False,   +ve/-ve ----->> True\n",
    "# bool\n",
    "# None  ---------->> False\n",
    "# str, list, tuple, set, dict --->> len is 0 --> false,  ow-->> True\n",
    "\n",
    "print  34 or 45 # 34\n",
    "print  0 or 23  # 23\n",
    "print [] or 0   # 0\n",
    "print [] or 2   # 2"
   ]
  },
  {
   "cell_type": "code",
   "execution_count": 12,
   "metadata": {},
   "outputs": [
    {
     "name": "stdout",
     "output_type": "stream",
     "text": [
      "45\n",
      "0\n",
      "[]\n",
      "[]\n"
     ]
    }
   ],
   "source": [
    "# Logical AND --->> and\n",
    "'''\n",
    "ip1 and  ip2 ---->>>> ip1  / ip2\n",
    "\n",
    "res --->> ip1 ,   when ip1 is False case\n",
    "res --->> ip2 ,  when ip1 is True case\n",
    "'''\n",
    "print  34 and 45 #  45\n",
    "print  0 and 23  # 0\n",
    "print [] and 0   # []\n",
    "print [] and 2   # []"
   ]
  },
  {
   "cell_type": "code",
   "execution_count": 13,
   "metadata": {},
   "outputs": [
    {
     "name": "stdout",
     "output_type": "stream",
     "text": [
      "False\n",
      "True\n",
      "False\n"
     ]
    }
   ],
   "source": [
    "#logical not --->> not\n",
    "\n",
    "'''\n",
    "not ip  --->> True/ False\n",
    "res --->> True   ,  ip --->> False case\n",
    "res --->> False  , ip ---->> True case\n",
    "'''\n",
    "print not 45 # Fasle\n",
    "print not [] # True\n",
    "print not \"123\"# False"
   ]
  },
  {
   "cell_type": "code",
   "execution_count": 2,
   "metadata": {},
   "outputs": [
    {
     "name": "stdout",
     "output_type": "stream",
     "text": [
      "False\n",
      "True\n",
      "True\n",
      "False\n"
     ]
    }
   ],
   "source": [
    "#special operator\n",
    "'''\n",
    "--->> Membership Operator\n",
    "\n",
    "====>>> To check the availability of one element in seq of elements\n",
    "\n",
    "        1. in \n",
    "        \n",
    "            True --->> Avaialble\n",
    "            False --> not available\n",
    "            \n",
    "        2. not in\n",
    "        \n",
    "            True --->>not Avaialble\n",
    "            False --> available        \n",
    "\n",
    "--->> Identity operator\n",
    "    --->> to check the memory loc is same or not\n",
    "    \n",
    "    1. is \n",
    "    \n",
    "        True --->>> Same\n",
    "        False --->> different\n",
    "        \n",
    "    2. is not\n",
    "\n",
    "        True --->>> different\n",
    "        False --->> same\n",
    "        \n",
    "\n",
    "'''\n",
    "a = 12\n",
    "b = [34,45,23]\n",
    "c = 45\n",
    "print a in b\n",
    "print a not in b\n",
    "print c in b\n",
    "print c not in b"
   ]
  },
  {
   "cell_type": "code",
   "execution_count": 5,
   "metadata": {},
   "outputs": [
    {
     "name": "stdout",
     "output_type": "stream",
     "text": [
      "82760008\n",
      "81215240\n",
      "False\n",
      "True\n"
     ]
    }
   ],
   "source": [
    "a = [1,2,3]\n",
    "b = [1,2,3]\n",
    "print id(a)\n",
    "print id(b)\n",
    "print a is b\n",
    "print a is not b"
   ]
  },
  {
   "cell_type": "code",
   "execution_count": 6,
   "metadata": {},
   "outputs": [
    {
     "name": "stdout",
     "output_type": "stream",
     "text": [
      "82760712\n",
      "82760712\n",
      "True\n",
      "False\n"
     ]
    }
   ],
   "source": [
    "a = [1,2,3]\n",
    "b = a\n",
    "print id(a)\n",
    "print id(b)\n",
    "print a is b\n",
    "print a is not b"
   ]
  },
  {
   "cell_type": "code",
   "execution_count": 7,
   "metadata": {},
   "outputs": [
    {
     "name": "stdout",
     "output_type": "stream",
     "text": [
      "14\n"
     ]
    }
   ],
   "source": [
    "# bitwise operator\n",
    "'''\n",
    "--->>>which are operating on  binary data \n",
    "1. bitwise or |\n",
    "2. bitwisr and &\n",
    "3. bitwise xor ^\n",
    "4. bitwise not ~\n",
    "5. bitwise leftshift  <<\n",
    "6. bitwise rightshift  >>\n",
    "\n",
    "'''\n",
    "print 6  | 10"
   ]
  },
  {
   "cell_type": "code",
   "execution_count": 8,
   "metadata": {},
   "outputs": [
    {
     "name": "stdout",
     "output_type": "stream",
     "text": [
      "2\n"
     ]
    }
   ],
   "source": [
    "print 6 & 10"
   ]
  },
  {
   "cell_type": "code",
   "execution_count": 10,
   "metadata": {},
   "outputs": [
    {
     "name": "stdout",
     "output_type": "stream",
     "text": [
      "12\n"
     ]
    }
   ],
   "source": [
    "print 6 ^ 10"
   ]
  },
  {
   "cell_type": "code",
   "execution_count": 11,
   "metadata": {},
   "outputs": [
    {
     "name": "stdout",
     "output_type": "stream",
     "text": [
      "-6\n",
      "-90\n",
      "-46\n"
     ]
    }
   ],
   "source": [
    "print ~5\n",
    "print ~89\n",
    "print ~45"
   ]
  },
  {
   "cell_type": "code",
   "execution_count": 12,
   "metadata": {},
   "outputs": [
    {
     "name": "stdout",
     "output_type": "stream",
     "text": [
      "80\n"
     ]
    }
   ],
   "source": [
    "# leftshift\n",
    "'''\n",
    "num << bit_pos\n",
    "\n",
    "--->> num --->>binary\n",
    "-->> bit_pos  ---->> no of bit_pos zeros we shpuld add at right sie\n",
    "\n",
    "'''\n",
    "print 10 << 3"
   ]
  },
  {
   "cell_type": "code",
   "execution_count": 13,
   "metadata": {},
   "outputs": [
    {
     "name": "stdout",
     "output_type": "stream",
     "text": [
      "1\n"
     ]
    }
   ],
   "source": [
    "# right shift\n",
    "'''\n",
    "num >> bit_pos\n",
    "\n",
    "--->> num --->>binary\n",
    "-->> bit_pos  ---->> no of bit_pos removes at right sie\n",
    "\n",
    "'''\n",
    "print 10 >> 3\n",
    "print 45 >> 2"
   ]
  },
  {
   "cell_type": "code",
   "execution_count": null,
   "metadata": {},
   "outputs": [],
   "source": []
  }
 ],
 "metadata": {
  "kernelspec": {
   "display_name": "Python 2",
   "language": "python",
   "name": "python2"
  },
  "language_info": {
   "codemirror_mode": {
    "name": "ipython",
    "version": 2
   },
   "file_extension": ".py",
   "mimetype": "text/x-python",
   "name": "python",
   "nbconvert_exporter": "python",
   "pygments_lexer": "ipython2",
   "version": "2.7.16"
  }
 },
 "nbformat": 4,
 "nbformat_minor": 2
}
