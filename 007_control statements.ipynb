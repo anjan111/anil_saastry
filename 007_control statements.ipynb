{
 "cells": [
  {
   "cell_type": "code",
   "execution_count": 1,
   "metadata": {},
   "outputs": [
    {
     "name": "stdout",
     "output_type": "stream",
     "text": [
      "enter your age : 16\n",
      "Task over\n"
     ]
    }
   ],
   "source": [
    "# statement \n",
    "'''\n",
    "--->> An instruction which can be executable with in the program\n",
    "'''\n",
    "# program \n",
    "'''\n",
    "--->> collection of statements to do any one specific task\n",
    "'''\n",
    "# how the program can executes\n",
    "'''\n",
    "-->> line by line or statement by statement\n",
    "'''\n",
    "# control statements\n",
    "'''\n",
    "--->> we can change the flow of execution of the program\n",
    "    1. conditional statements\n",
    "    2. Looping statements\n",
    "    3.  control keywords\n",
    "\n",
    "'''\n",
    "# conditional statements\n",
    "'''\n",
    "--->>> The execution of the statements are depends on condition\n",
    "        1. simple if \n",
    "        2. if and else\n",
    "        3. elif ladder\n",
    "        4. nested if\n",
    "'''\n",
    "# simple if \n",
    "'''\n",
    "if (condition) :\n",
    "    Task \n",
    "    ----\n",
    "    ----\n",
    "    ----\n",
    "'''\n",
    "# wap print your full details when you have more than 18 years\n",
    "age = input(\"enter your age : \")\n",
    "if( age  > 18):\n",
    "    print \"name : anjan\"\n",
    "    print \"phone: 79316943132\"\n",
    "    print \"mail : anjan@gmail.com\"\n",
    "print \"Task over\"\n"
   ]
  },
  {
   "cell_type": "code",
   "execution_count": 2,
   "metadata": {},
   "outputs": [
    {
     "name": "stdout",
     "output_type": "stream",
     "text": [
      "enter your age : 20\n",
      "name : anjan\n",
      "phone: 79316943132\n",
      "mail : anjan@gmail.com\n",
      "Task over\n"
     ]
    }
   ],
   "source": [
    "# wap print your full details when you have more than 18 years\n",
    "age = input(\"enter your age : \")\n",
    "if( age  > 18):\n",
    "    print \"name : anjan\"\n",
    "    print \"phone: 79316943132\"\n",
    "    print \"mail : anjan@gmail.com\"\n",
    "print \"Task over\"\n"
   ]
  },
  {
   "cell_type": "code",
   "execution_count": 6,
   "metadata": {},
   "outputs": [
    {
     "name": "stdout",
     "output_type": "stream",
     "text": [
      "enter radious of circle : 5.0\n",
      "area :  78.5714285714  sq meters\n",
      "task over\n"
     ]
    }
   ],
   "source": [
    "# wap find the area of circle when radious is float datatype\n",
    "rad = input(\"enter radious of circle : \")\n",
    "if(isinstance(rad,float)):\n",
    "    pi = 22.0/7\n",
    "    area =  pi*(rad ** 2)\n",
    "    print \"area : \",area,\" sq meters\"\n",
    "print \"task over\""
   ]
  },
  {
   "cell_type": "code",
   "execution_count": 9,
   "metadata": {},
   "outputs": [
    {
     "name": "stdout",
     "output_type": "stream",
     "text": [
      "enter l : 9\n",
      "enter b : 7\n",
      " area:  63\n",
      "task over \n"
     ]
    }
   ],
   "source": [
    "# wap find the periter of rectangle when area is even number\n",
    "l =input(\"enter l : \")\n",
    "b = input(\"enter b : \")\n",
    "area = l * b\n",
    "print \" area: \",area\n",
    "if(area % 2 == 0):\n",
    "    peri = 2 * ( l + b)\n",
    "    print \"peri : \",peri\n",
    "print \"task over \"\n"
   ]
  },
  {
   "cell_type": "code",
   "execution_count": 11,
   "metadata": {},
   "outputs": [
    {
     "name": "stdout",
     "output_type": "stream",
     "text": [
      "enter a character : 'E'\n",
      "['and', 'as', 'assert', 'break', 'class', 'continue', 'def', 'del', 'elif', 'else', 'except', 'exec', 'finally', 'for', 'from', 'global', 'if', 'import', 'in', 'is', 'lambda', 'not', 'or', 'pass', 'print', 'raise', 'return', 'try', 'while', 'with', 'yield']\n",
      "task over\n"
     ]
    }
   ],
   "source": [
    "# wap print all keywords when the enter character is vowel\n",
    "char = input(\"enter a character : \")\n",
    "if(char in \"aeiouAEIOU\"):\n",
    "    import keyword\n",
    "    print keyword.kwlist\n",
    "print \"task over\""
   ]
  },
  {
   "cell_type": "code",
   "execution_count": 2,
   "metadata": {},
   "outputs": [
    {
     "name": "stdout",
     "output_type": "stream",
     "text": [
      "enter number : 45\n",
      "45  is odd\n",
      "if and else over\n"
     ]
    }
   ],
   "source": [
    "# if and else \n",
    "'''\n",
    "if( Condition):\n",
    "    Task1\n",
    "else:\n",
    "    Task2\n",
    "'''\n",
    "# wap find and  print given number is  even or odd \n",
    "num = input(\"enter number : \")\n",
    "rem = num % 2\n",
    "if(rem == 0):\n",
    "    print num,\" is even\"\n",
    "else:\n",
    "    print num,\" is odd\"\n",
    "print \"if and else over\""
   ]
  },
  {
   "cell_type": "code",
   "execution_count": 11,
   "metadata": {},
   "outputs": [
    {
     "name": "stdout",
     "output_type": "stream",
     "text": [
      "enter number : 78\n",
      "78  is even\n",
      "if and else over\n",
      "outter if is over\n"
     ]
    }
   ],
   "source": [
    "# nested if \n",
    "'''\n",
    "one block can contains other block\n",
    "\n",
    "if ->> if and else , elif ladder, simple if\n",
    "else--> if, if and else, elif\n",
    "elif --> if, if and else , elif\n",
    "'''\n",
    "# wap find the given number is even or not\n",
    "num = input(\"enter number int : \")# 34 -->'34'\n",
    "num = int(num)\n",
    "\n",
    "if(isinstance(num,int)):\n",
    "    rem = num % 2\n",
    "    if(rem == 0):\n",
    "        print num,\" is even\"\n",
    "    else:\n",
    "        print num,\" is odd\"\n",
    "    print \"if and else over\"\n",
    "else:\n",
    "    print \"please entrer int data \"\n",
    "print \"outter if is over\""
   ]
  },
  {
   "cell_type": "code",
   "execution_count": 12,
   "metadata": {},
   "outputs": [
    {
     "name": "stdout",
     "output_type": "stream",
     "text": [
      "enter a : 78\n",
      "enter b : 45\n",
      "enter c : 89\n",
      "small :  45\n"
     ]
    }
   ],
   "source": [
    "# wap find the smallest number from 3 numbers \n",
    "a = input(\"enter a : \")\n",
    "b = input(\"enter b : \")\n",
    "c = input(\"enter c : \")\n",
    "if( a < b):\n",
    "    small = a\n",
    "    if(a > c):\n",
    "        small = c\n",
    "else:\n",
    "    small = b\n",
    "    if(b > c):\n",
    "        small = c\n",
    "print \"small : \",small\n",
    "    "
   ]
  },
  {
   "cell_type": "code",
   "execution_count": null,
   "metadata": {},
   "outputs": [],
   "source": [
    "# wap find the given character is vowel or consonant\n",
    "\"\"\"\n",
    "test cases\n",
    "1. 'a' --->>vowel\n",
    "2. 'E' --> vowel\n",
    "3. 'ae'-->> please enter single character\n",
    "4. 45.3 ->> plese enter str datatype\n",
    "6. 'T' ---> consonant\n",
    "\n",
    "\"\"\"\n",
    "# 9pm as per ist\n",
    "# 8:55pm as per  ist"
   ]
  }
 ],
 "metadata": {
  "kernelspec": {
   "display_name": "Python 2",
   "language": "python",
   "name": "python2"
  },
  "language_info": {
   "codemirror_mode": {
    "name": "ipython",
    "version": 2
   },
   "file_extension": ".py",
   "mimetype": "text/x-python",
   "name": "python",
   "nbconvert_exporter": "python",
   "pygments_lexer": "ipython2",
   "version": "2.7.16"
  }
 },
 "nbformat": 4,
 "nbformat_minor": 2
}
