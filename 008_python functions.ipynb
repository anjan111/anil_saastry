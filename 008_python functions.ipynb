{
 "cells": [
  {
   "cell_type": "markdown",
   "metadata": {},
   "source": [
    "###  function\n",
    "\n",
    "--->> set of instructions to do any one specific task\n",
    "\n",
    "--->> 1. Pre defined function\n",
    "\n",
    "--->> 2. User defined function\n",
    "\n",
    "\n",
    "#### function defination  \n",
    "\n",
    "    ---> set of statements with a block\n",
    "    \n",
    "    def   function( ) :\n",
    "    \n",
    "        Task\n",
    "        \n",
    "        ----\n",
    "        \n",
    "        -----\n",
    "\n",
    "#### function call \n",
    "\n",
    "    -->> we can execute the function  defination\n",
    "    \n",
    "    \n",
    "    function( )"
   ]
  },
  {
   "cell_type": "code",
   "execution_count": 1,
   "metadata": {},
   "outputs": [
    {
     "name": "stdout",
     "output_type": "stream",
     "text": [
      "name : anjan\n",
      "phone: 9640 987 960\n",
      "mail : jkdfdjf@jkf.com\n",
      "**********************\n",
      "name : anjan\n",
      "phone: 9640 987 960\n",
      "mail : jkdfdjf@jkf.com\n",
      "####################\n",
      "name : anjan\n",
      "phone: 9640 987 960\n",
      "mail : jkdfdjf@jkf.com\n"
     ]
    }
   ],
   "source": [
    "# wap print your details \n",
    "\n",
    "print \"name : anjan\"\n",
    "print \"phone: 9640 987 960\"\n",
    "print \"mail : jkdfdjf@jkf.com\"\n",
    "\n",
    "print\"**********************\"\n",
    "print \"name : anjan\"\n",
    "print \"phone: 9640 987 960\"\n",
    "print \"mail : jkdfdjf@jkf.com\"\n",
    "\n",
    "print \"####################\"\n",
    "print \"name : anjan\"\n",
    "print \"phone: 9640 987 960\"\n",
    "print \"mail : jkdfdjf@jkf.com\""
   ]
  },
  {
   "cell_type": "code",
   "execution_count": 2,
   "metadata": {},
   "outputs": [
    {
     "name": "stdout",
     "output_type": "stream",
     "text": [
      "name : anjan\n",
      "phone: 9640 987 960\n",
      "mail : jkdfdjf@jkf.com\n",
      "***********\n",
      "name : anjan\n",
      "phone: 9640 987 960\n",
      "mail : jkdfdjf@jkf.com\n",
      "#############\n",
      "name : anjan\n",
      "phone: 9640 987 960\n",
      "mail : jkdfdjf@jkf.com\n"
     ]
    }
   ],
   "source": [
    "def details():\n",
    "    print \"name : anjan\"\n",
    "    print \"phone: 9640 987 960\"\n",
    "    print \"mail : jkdfdjf@jkf.com\"\n",
    "details()\n",
    "print \"***********\"\n",
    "details()\n",
    "print \"#############\"\n",
    "details()"
   ]
  },
  {
   "cell_type": "code",
   "execution_count": 3,
   "metadata": {},
   "outputs": [
    {
     "name": "stdout",
     "output_type": "stream",
     "text": [
      "enter b : 45\n",
      "12\n",
      "45\n",
      "47\n"
     ]
    }
   ],
   "source": [
    "# arguments\n",
    "'''\n",
    "-->> we can send the data from function call to function defination\n",
    "'''\n",
    "def fun(x,y,z): # function defination\n",
    "    print x\n",
    "    print y\n",
    "    print z\n",
    "    \n",
    "b = input(\"enter b : \")\n",
    "fun(12,b,1*2+b) # function call"
   ]
  },
  {
   "cell_type": "code",
   "execution_count": 4,
   "metadata": {},
   "outputs": [
    {
     "name": "stdout",
     "output_type": "stream",
     "text": [
      "enter b : 45\n"
     ]
    },
    {
     "ename": "TypeError",
     "evalue": "fun() takes exactly 3 arguments (2 given)",
     "output_type": "error",
     "traceback": [
      "\u001b[1;31m---------------------------------------------------------------------------\u001b[0m",
      "\u001b[1;31mTypeError\u001b[0m                                 Traceback (most recent call last)",
      "\u001b[1;32m<ipython-input-4-4c6d3b960186>\u001b[0m in \u001b[0;36m<module>\u001b[1;34m()\u001b[0m\n\u001b[0;32m      9\u001b[0m \u001b[1;33m\u001b[0m\u001b[0m\n\u001b[0;32m     10\u001b[0m \u001b[0mb\u001b[0m \u001b[1;33m=\u001b[0m \u001b[0minput\u001b[0m\u001b[1;33m(\u001b[0m\u001b[1;34m\"enter b : \"\u001b[0m\u001b[1;33m)\u001b[0m\u001b[1;33m\u001b[0m\u001b[0m\n\u001b[1;32m---> 11\u001b[1;33m \u001b[0mfun\u001b[0m\u001b[1;33m(\u001b[0m\u001b[1;36m12\u001b[0m\u001b[1;33m,\u001b[0m\u001b[0mb\u001b[0m\u001b[1;33m)\u001b[0m \u001b[1;31m# function call\u001b[0m\u001b[1;33m\u001b[0m\u001b[0m\n\u001b[0m",
      "\u001b[1;31mTypeError\u001b[0m: fun() takes exactly 3 arguments (2 given)"
     ]
    }
   ],
   "source": [
    "# arguments\n",
    "'''\n",
    "-->> we can send the data from function call to function defination\n",
    "'''\n",
    "def fun(x,y,z): # function defination\n",
    "    print x\n",
    "    print y\n",
    "    print z\n",
    "    \n",
    "b = input(\"enter b : \")\n",
    "fun(12,b) # function call"
   ]
  },
  {
   "cell_type": "code",
   "execution_count": 5,
   "metadata": {},
   "outputs": [
    {
     "name": "stdout",
     "output_type": "stream",
     "text": [
      "enter b : 45\n"
     ]
    },
    {
     "ename": "TypeError",
     "evalue": "fun() takes exactly 3 arguments (4 given)",
     "output_type": "error",
     "traceback": [
      "\u001b[1;31m---------------------------------------------------------------------------\u001b[0m",
      "\u001b[1;31mTypeError\u001b[0m                                 Traceback (most recent call last)",
      "\u001b[1;32m<ipython-input-5-fa2beef0aa84>\u001b[0m in \u001b[0;36m<module>\u001b[1;34m()\u001b[0m\n\u001b[0;32m      9\u001b[0m \u001b[1;33m\u001b[0m\u001b[0m\n\u001b[0;32m     10\u001b[0m \u001b[0mb\u001b[0m \u001b[1;33m=\u001b[0m \u001b[0minput\u001b[0m\u001b[1;33m(\u001b[0m\u001b[1;34m\"enter b : \"\u001b[0m\u001b[1;33m)\u001b[0m\u001b[1;33m\u001b[0m\u001b[0m\n\u001b[1;32m---> 11\u001b[1;33m \u001b[0mfun\u001b[0m\u001b[1;33m(\u001b[0m\u001b[1;36m12\u001b[0m\u001b[1;33m,\u001b[0m\u001b[0mb\u001b[0m\u001b[1;33m,\u001b[0m\u001b[1;36m1\u001b[0m\u001b[1;33m*\u001b[0m\u001b[1;36m2\u001b[0m\u001b[1;33m+\u001b[0m\u001b[0mb\u001b[0m\u001b[1;33m,\u001b[0m\u001b[1;36m89\u001b[0m\u001b[1;33m)\u001b[0m \u001b[1;31m# function call\u001b[0m\u001b[1;33m\u001b[0m\u001b[0m\n\u001b[0m",
      "\u001b[1;31mTypeError\u001b[0m: fun() takes exactly 3 arguments (4 given)"
     ]
    }
   ],
   "source": [
    "# arguments\n",
    "'''\n",
    "-->> we can send the data from function call to function defination\n",
    "'''\n",
    "def fun(x,y,z): # function defination\n",
    "    print x\n",
    "    print y\n",
    "    print z\n",
    "    \n",
    "b = input(\"enter b : \")\n",
    "fun(12,b,1*2+b,89) # function call"
   ]
  },
  {
   "cell_type": "code",
   "execution_count": 9,
   "metadata": {},
   "outputs": [
    {
     "name": "stdout",
     "output_type": "stream",
     "text": [
      "123\n",
      "12.3\n",
      "123\n"
     ]
    }
   ],
   "source": [
    "# local and global variables \n",
    "'''\n",
    "--->> the local variable which have to define in side of function block\n",
    "\n",
    "--->> the global variables whihc are ffdefiend outside of functions\n",
    "\n",
    "'''\n",
    "var_g  = 123 # default global variable\n",
    "def fun():\n",
    "    print  var_g\n",
    "    var_l = 12.3# local variable\n",
    "    print var_l\n",
    "fun()\n",
    "print var_g\n",
    "#print var_l\n"
   ]
  },
  {
   "cell_type": "code",
   "execution_count": 10,
   "metadata": {},
   "outputs": [
    {
     "name": "stdout",
     "output_type": "stream",
     "text": [
      "123\n",
      "123\n"
     ]
    }
   ],
   "source": [
    "def fun():\n",
    "    global var\n",
    "    var  =123\n",
    "    print var\n",
    "fun()\n",
    "print var"
   ]
  },
  {
   "cell_type": "code",
   "execution_count": 11,
   "metadata": {},
   "outputs": [
    {
     "name": "stdout",
     "output_type": "stream",
     "text": [
      "456\n"
     ]
    }
   ],
   "source": [
    "# return  --->> to send the data from function  defination to function call\n",
    "def fun():\n",
    "    return 456\n",
    "\n",
    "var =  fun()\n",
    "print var"
   ]
  },
  {
   "cell_type": "code",
   "execution_count": null,
   "metadata": {},
   "outputs": [],
   "source": [
    "# waf given number is prime number or not \n",
    "# waf generate fibonic series elements\n",
    "# waf factorial of a numbers"
   ]
  },
  {
   "cell_type": "code",
   "execution_count": null,
   "metadata": {},
   "outputs": [],
   "source": []
  }
 ],
 "metadata": {
  "kernelspec": {
   "display_name": "Python 2",
   "language": "python",
   "name": "python2"
  },
  "language_info": {
   "codemirror_mode": {
    "name": "ipython",
    "version": 2
   },
   "file_extension": ".py",
   "mimetype": "text/x-python",
   "name": "python",
   "nbconvert_exporter": "python",
   "pygments_lexer": "ipython2",
   "version": "2.7.16"
  }
 },
 "nbformat": 4,
 "nbformat_minor": 2
}
