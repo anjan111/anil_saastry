{
 "cells": [
  {
   "cell_type": "code",
   "execution_count": 2,
   "metadata": {},
   "outputs": [
    {
     "name": "stdout",
     "output_type": "stream",
     "text": [
      "daata in var :  soc softech\n",
      "memory loc   :  77799664\n",
      "<type 'str'>\n"
     ]
    }
   ],
   "source": [
    "#total 5 seq :\n",
    "# string data type\n",
    "# =======> collection of characters with '' /\"\"/''' / \"\"\"\n",
    "var = 'soc softech'\n",
    "print \"daata in var : \", var\n",
    "print \"memory loc   : \",id(var) \n",
    "print type(var)"
   ]
  },
  {
   "cell_type": "code",
   "execution_count": 3,
   "metadata": {},
   "outputs": [
    {
     "name": "stdout",
     "output_type": "stream",
     "text": [
      "daata in var :  soc softech\n",
      "memory loc   :  77800192\n",
      "<type 'str'>\n"
     ]
    }
   ],
   "source": [
    "var = \"soc softech\"\n",
    "print \"daata in var : \", var\n",
    "print \"memory loc   : \",id(var) \n",
    "print type(var)"
   ]
  },
  {
   "cell_type": "code",
   "execution_count": 4,
   "metadata": {},
   "outputs": [
    {
     "name": "stdout",
     "output_type": "stream",
     "text": [
      "daata in var :  soc softech\n",
      "memory loc   :  77799616\n",
      "<type 'str'>\n"
     ]
    }
   ],
   "source": [
    "var = '''soc softech'''\n",
    "print \"daata in var : \", var\n",
    "print \"memory loc   : \",id(var) \n",
    "print type(var)"
   ]
  },
  {
   "cell_type": "code",
   "execution_count": 5,
   "metadata": {},
   "outputs": [
    {
     "name": "stdout",
     "output_type": "stream",
     "text": [
      "daata in var :  soc softech\n",
      "memory loc   :  77799760\n",
      "<type 'str'>\n"
     ]
    }
   ],
   "source": [
    "var = \"\"\"soc softech\"\"\"\n",
    "print \"daata in var : \", var\n",
    "print \"memory loc   : \",id(var) \n",
    "print type(var)"
   ]
  },
  {
   "cell_type": "code",
   "execution_count": 6,
   "metadata": {},
   "outputs": [
    {
     "name": "stdout",
     "output_type": "stream",
     "text": [
      "p\n",
      "y\n",
      "t\n",
      "h\n",
      "o\n",
      "n\n"
     ]
    }
   ],
   "source": [
    "# access the characters from str\n",
    "'''\n",
    "--->> indexing  --->> var[index]\n",
    "##### positive indexing \n",
    "#### negative indexing \n",
    "'''\n",
    "var =\"python\"\n",
    "print var[0]\n",
    "print var[1]\n",
    "print var[2]\n",
    "print var[3]\n",
    "print var[4]\n",
    "print var[5]"
   ]
  },
  {
   "cell_type": "code",
   "execution_count": 7,
   "metadata": {},
   "outputs": [
    {
     "name": "stdout",
     "output_type": "stream",
     "text": [
      "n\n",
      "o\n",
      "h\n",
      "t\n",
      "y\n",
      "p\n"
     ]
    }
   ],
   "source": [
    "var =\"python\"\n",
    "print var[-1]\n",
    "print var[-2]\n",
    "print var[-3]\n",
    "print var[-4]\n",
    "print var[-5]\n",
    "print var[-6]"
   ]
  },
  {
   "cell_type": "code",
   "execution_count": 8,
   "metadata": {},
   "outputs": [
    {
     "name": "stdout",
     "output_type": "stream",
     "text": [
      "anjan\n",
      "anjan\n"
     ]
    }
   ],
   "source": [
    "# ---->>> string slcing [ start :stop ]\n",
    "'''\n",
    "-->> we can access the multiple continues characters from str \n",
    "'''\n",
    "var =\"anjankumarpython\"\n",
    "print var[0:5]\n",
    "print var[:5]# start ----> 0"
   ]
  },
  {
   "cell_type": "code",
   "execution_count": 9,
   "metadata": {},
   "outputs": [
    {
     "name": "stdout",
     "output_type": "stream",
     "text": [
      "kumar\n",
      "kumarpython\n"
     ]
    }
   ],
   "source": [
    "var =\"anjankumarpython\"\n",
    "print var[5:10]\n",
    "print var[5:]# stop ----> len -1"
   ]
  },
  {
   "cell_type": "code",
   "execution_count": 11,
   "metadata": {},
   "outputs": [
    {
     "name": "stdout",
     "output_type": "stream",
     "text": [
      "kmr\n",
      "kumar\n",
      "kumar\n"
     ]
    }
   ],
   "source": [
    "# str dicing [start  : stop  : step]\n",
    "'''\n",
    "we can access the multiple periodical indexing characters\n",
    "\n",
    "'''\n",
    "var =\"anjankumarpython\"\n",
    "print var[5:10:2]# 5,7,9# kmr\n",
    "print var[5:10:1]# kumar\n",
    "print var[5:10:]# kumar"
   ]
  },
  {
   "cell_type": "code",
   "execution_count": 12,
   "metadata": {},
   "outputs": [
    {
     "name": "stdout",
     "output_type": "stream",
     "text": [
      "python\n",
      "t\n"
     ]
    },
    {
     "ename": "TypeError",
     "evalue": "'str' object does not support item assignment",
     "output_type": "error",
     "traceback": [
      "\u001b[1;31m---------------------------------------------------------------------------\u001b[0m",
      "\u001b[1;31mTypeError\u001b[0m                                 Traceback (most recent call last)",
      "\u001b[1;32m<ipython-input-12-741900ef49ee>\u001b[0m in \u001b[0;36m<module>\u001b[1;34m()\u001b[0m\n\u001b[0;32m      3\u001b[0m \u001b[1;32mprint\u001b[0m \u001b[0mvar\u001b[0m\u001b[1;33m\u001b[0m\u001b[0m\n\u001b[0;32m      4\u001b[0m \u001b[1;32mprint\u001b[0m \u001b[0mvar\u001b[0m\u001b[1;33m[\u001b[0m\u001b[1;36m2\u001b[0m\u001b[1;33m]\u001b[0m\u001b[1;33m\u001b[0m\u001b[0m\n\u001b[1;32m----> 5\u001b[1;33m \u001b[0mvar\u001b[0m\u001b[1;33m[\u001b[0m\u001b[1;36m2\u001b[0m\u001b[1;33m]\u001b[0m \u001b[1;33m=\u001b[0m \u001b[1;34m'T'\u001b[0m\u001b[1;33m\u001b[0m\u001b[0m\n\u001b[0m\u001b[0;32m      6\u001b[0m \u001b[1;32mprint\u001b[0m \u001b[0mvar\u001b[0m\u001b[1;33m\u001b[0m\u001b[0m\n",
      "\u001b[1;31mTypeError\u001b[0m: 'str' object does not support item assignment"
     ]
    }
   ],
   "source": [
    "#str is immutable datatype --->> we can't modify the existing data\n",
    "var = \"python\"\n",
    "print var\n",
    "print var[2]\n",
    "var[2] = 'T'\n",
    "print var"
   ]
  },
  {
   "cell_type": "code",
   "execution_count": 13,
   "metadata": {},
   "outputs": [
    {
     "name": "stdout",
     "output_type": "stream",
     "text": [
      "6\n"
     ]
    }
   ],
   "source": [
    "var= \"python\"\n",
    "print len(var)"
   ]
  },
  {
   "cell_type": "code",
   "execution_count": 14,
   "metadata": {},
   "outputs": [
    {
     "name": "stdout",
     "output_type": "stream",
     "text": [
      "y\n"
     ]
    }
   ],
   "source": [
    "var= \"python\"\n",
    "print max(var)"
   ]
  },
  {
   "cell_type": "code",
   "execution_count": 15,
   "metadata": {},
   "outputs": [
    {
     "name": "stdout",
     "output_type": "stream",
     "text": [
      "h\n"
     ]
    }
   ],
   "source": [
    "var= \"python\"\n",
    "print min(var)"
   ]
  },
  {
   "cell_type": "code",
   "execution_count": 18,
   "metadata": {},
   "outputs": [
    {
     "name": "stdout",
     "output_type": "stream",
     "text": [
      "a\n",
      "b\n",
      "c\n",
      "97\n",
      "98\n",
      "99\n"
     ]
    }
   ],
   "source": [
    "# ascii to char   chr(ascii)\n",
    "print chr(97)\n",
    "print chr(98)\n",
    "print chr(99)\n",
    "# char to ascii ord(char)\n",
    "print ord('a')\n",
    "print ord('b')\n",
    "print ord('c')"
   ]
  },
  {
   "cell_type": "code",
   "execution_count": null,
   "metadata": {},
   "outputs": [],
   "source": []
  },
  {
   "cell_type": "code",
   "execution_count": null,
   "metadata": {},
   "outputs": [],
   "source": []
  },
  {
   "cell_type": "code",
   "execution_count": null,
   "metadata": {},
   "outputs": [],
   "source": []
  }
 ],
 "metadata": {
  "kernelspec": {
   "display_name": "Python 2",
   "language": "python",
   "name": "python2"
  },
  "language_info": {
   "codemirror_mode": {
    "name": "ipython",
    "version": 2
   },
   "file_extension": ".py",
   "mimetype": "text/x-python",
   "name": "python",
   "nbconvert_exporter": "python",
   "pygments_lexer": "ipython2",
   "version": "2.7.16"
  }
 },
 "nbformat": 4,
 "nbformat_minor": 2
}
