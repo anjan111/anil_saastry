{
 "cells": [
  {
   "cell_type": "code",
   "execution_count": 2,
   "metadata": {},
   "outputs": [
    {
     "name": "stdout",
     "output_type": "stream",
     "text": [
      "daata in var :  soc softech\n",
      "memory loc   :  77799664\n",
      "<type 'str'>\n"
     ]
    }
   ],
   "source": [
    "#total 5 seq :\n",
    "# string data type\n",
    "# =======> collection of characters with '' /\"\"/''' / \"\"\"\n",
    "var = 'soc softech'\n",
    "print \"daata in var : \", var\n",
    "print \"memory loc   : \",id(var) \n",
    "print type(var)"
   ]
  },
  {
   "cell_type": "code",
   "execution_count": 3,
   "metadata": {},
   "outputs": [
    {
     "name": "stdout",
     "output_type": "stream",
     "text": [
      "daata in var :  soc softech\n",
      "memory loc   :  77800192\n",
      "<type 'str'>\n"
     ]
    }
   ],
   "source": [
    "var = \"soc softech\"\n",
    "print \"daata in var : \", var\n",
    "print \"memory loc   : \",id(var) \n",
    "print type(var)"
   ]
  },
  {
   "cell_type": "code",
   "execution_count": 4,
   "metadata": {},
   "outputs": [
    {
     "name": "stdout",
     "output_type": "stream",
     "text": [
      "daata in var :  soc softech\n",
      "memory loc   :  77799616\n",
      "<type 'str'>\n"
     ]
    }
   ],
   "source": [
    "var = '''soc softech'''\n",
    "print \"daata in var : \", var\n",
    "print \"memory loc   : \",id(var) \n",
    "print type(var)"
   ]
  },
  {
   "cell_type": "code",
   "execution_count": 5,
   "metadata": {},
   "outputs": [
    {
     "name": "stdout",
     "output_type": "stream",
     "text": [
      "daata in var :  soc softech\n",
      "memory loc   :  77799760\n",
      "<type 'str'>\n"
     ]
    }
   ],
   "source": [
    "var = \"\"\"soc softech\"\"\"\n",
    "print \"daata in var : \", var\n",
    "print \"memory loc   : \",id(var) \n",
    "print type(var)"
   ]
  },
  {
   "cell_type": "code",
   "execution_count": 6,
   "metadata": {},
   "outputs": [
    {
     "name": "stdout",
     "output_type": "stream",
     "text": [
      "p\n",
      "y\n",
      "t\n",
      "h\n",
      "o\n",
      "n\n"
     ]
    }
   ],
   "source": [
    "# access the characters from str\n",
    "'''\n",
    "--->> indexing  --->> var[index]\n",
    "##### positive indexing \n",
    "#### negative indexing \n",
    "'''\n",
    "var =\"python\"\n",
    "print var[0]\n",
    "print var[1]\n",
    "print var[2]\n",
    "print var[3]\n",
    "print var[4]\n",
    "print var[5]"
   ]
  },
  {
   "cell_type": "code",
   "execution_count": 7,
   "metadata": {},
   "outputs": [
    {
     "name": "stdout",
     "output_type": "stream",
     "text": [
      "n\n",
      "o\n",
      "h\n",
      "t\n",
      "y\n",
      "p\n"
     ]
    }
   ],
   "source": [
    "var =\"python\"\n",
    "print var[-1]\n",
    "print var[-2]\n",
    "print var[-3]\n",
    "print var[-4]\n",
    "print var[-5]\n",
    "print var[-6]"
   ]
  },
  {
   "cell_type": "code",
   "execution_count": 8,
   "metadata": {},
   "outputs": [
    {
     "name": "stdout",
     "output_type": "stream",
     "text": [
      "anjan\n",
      "anjan\n"
     ]
    }
   ],
   "source": [
    "# ---->>> string slcing [ start :stop ]\n",
    "'''\n",
    "-->> we can access the multiple continues characters from str \n",
    "'''\n",
    "var =\"anjankumarpython\"\n",
    "print var[0:5]\n",
    "print var[:5]# start ----> 0"
   ]
  },
  {
   "cell_type": "code",
   "execution_count": 9,
   "metadata": {},
   "outputs": [
    {
     "name": "stdout",
     "output_type": "stream",
     "text": [
      "kumar\n",
      "kumarpython\n"
     ]
    }
   ],
   "source": [
    "var =\"anjankumarpython\"\n",
    "print var[5:10]\n",
    "print var[5:]# stop ----> len -1"
   ]
  },
  {
   "cell_type": "code",
   "execution_count": 11,
   "metadata": {},
   "outputs": [
    {
     "name": "stdout",
     "output_type": "stream",
     "text": [
      "kmr\n",
      "kumar\n",
      "kumar\n"
     ]
    }
   ],
   "source": [
    "# str dicing [start  : stop  : step]\n",
    "'''\n",
    "we can access the multiple periodical indexing characters\n",
    "\n",
    "'''\n",
    "var =\"anjankumarpython\"\n",
    "print var[5:10:2]# 5,7,9# kmr\n",
    "print var[5:10:1]# kumar\n",
    "print var[5:10:]# kumar"
   ]
  },
  {
   "cell_type": "code",
   "execution_count": 12,
   "metadata": {},
   "outputs": [
    {
     "name": "stdout",
     "output_type": "stream",
     "text": [
      "python\n",
      "t\n"
     ]
    },
    {
     "ename": "TypeError",
     "evalue": "'str' object does not support item assignment",
     "output_type": "error",
     "traceback": [
      "\u001b[1;31m---------------------------------------------------------------------------\u001b[0m",
      "\u001b[1;31mTypeError\u001b[0m                                 Traceback (most recent call last)",
      "\u001b[1;32m<ipython-input-12-741900ef49ee>\u001b[0m in \u001b[0;36m<module>\u001b[1;34m()\u001b[0m\n\u001b[0;32m      3\u001b[0m \u001b[1;32mprint\u001b[0m \u001b[0mvar\u001b[0m\u001b[1;33m\u001b[0m\u001b[0m\n\u001b[0;32m      4\u001b[0m \u001b[1;32mprint\u001b[0m \u001b[0mvar\u001b[0m\u001b[1;33m[\u001b[0m\u001b[1;36m2\u001b[0m\u001b[1;33m]\u001b[0m\u001b[1;33m\u001b[0m\u001b[0m\n\u001b[1;32m----> 5\u001b[1;33m \u001b[0mvar\u001b[0m\u001b[1;33m[\u001b[0m\u001b[1;36m2\u001b[0m\u001b[1;33m]\u001b[0m \u001b[1;33m=\u001b[0m \u001b[1;34m'T'\u001b[0m\u001b[1;33m\u001b[0m\u001b[0m\n\u001b[0m\u001b[0;32m      6\u001b[0m \u001b[1;32mprint\u001b[0m \u001b[0mvar\u001b[0m\u001b[1;33m\u001b[0m\u001b[0m\n",
      "\u001b[1;31mTypeError\u001b[0m: 'str' object does not support item assignment"
     ]
    }
   ],
   "source": [
    "#str is immutable datatype --->> we can't modify the existing data\n",
    "var = \"python\"\n",
    "print var\n",
    "print var[2]\n",
    "var[2] = 'T'\n",
    "print var"
   ]
  },
  {
   "cell_type": "code",
   "execution_count": 13,
   "metadata": {},
   "outputs": [
    {
     "name": "stdout",
     "output_type": "stream",
     "text": [
      "6\n"
     ]
    }
   ],
   "source": [
    "var= \"python\"\n",
    "print len(var)"
   ]
  },
  {
   "cell_type": "code",
   "execution_count": 14,
   "metadata": {},
   "outputs": [
    {
     "name": "stdout",
     "output_type": "stream",
     "text": [
      "y\n"
     ]
    }
   ],
   "source": [
    "var= \"python\"\n",
    "print max(var)"
   ]
  },
  {
   "cell_type": "code",
   "execution_count": 15,
   "metadata": {},
   "outputs": [
    {
     "name": "stdout",
     "output_type": "stream",
     "text": [
      "h\n"
     ]
    }
   ],
   "source": [
    "var= \"python\"\n",
    "print min(var)"
   ]
  },
  {
   "cell_type": "code",
   "execution_count": 18,
   "metadata": {},
   "outputs": [
    {
     "name": "stdout",
     "output_type": "stream",
     "text": [
      "a\n",
      "b\n",
      "c\n",
      "97\n",
      "98\n",
      "99\n"
     ]
    }
   ],
   "source": [
    "# ascii to char   chr(ascii)\n",
    "print chr(97)\n",
    "print chr(98)\n",
    "print chr(99)\n",
    "# char to ascii ord(char)\n",
    "print ord('a')\n",
    "print ord('b')\n",
    "print ord('c')"
   ]
  },
  {
   "cell_type": "code",
   "execution_count": 1,
   "metadata": {},
   "outputs": [
    {
     "name": "stdout",
     "output_type": "stream",
     "text": [
      "['__add__', '__class__', '__contains__', '__delattr__', '__doc__', '__eq__', '__format__', '__ge__', '__getattribute__', '__getitem__', '__getnewargs__', '__getslice__', '__gt__', '__hash__', '__init__', '__le__', '__len__', '__lt__', '__mod__', '__mul__', '__ne__', '__new__', '__reduce__', '__reduce_ex__', '__repr__', '__rmod__', '__rmul__', '__setattr__', '__sizeof__', '__str__', '__subclasshook__', '_formatter_field_name_split', '_formatter_parser', 'capitalize', 'center', 'count', 'decode', 'encode', 'endswith', 'expandtabs', 'find', 'format', 'index', 'isalnum', 'isalpha', 'isdigit', 'islower', 'isspace', 'istitle', 'isupper', 'join', 'ljust', 'lower', 'lstrip', 'partition', 'replace', 'rfind', 'rindex', 'rjust', 'rpartition', 'rsplit', 'rstrip', 'split', 'splitlines', 'startswith', 'strip', 'swapcase', 'title', 'translate', 'upper', 'zfill']\n"
     ]
    }
   ],
   "source": [
    "# str --->> pre defined class \n",
    "'''\n",
    "--->> special methods--->> which can executed with out any calling  __fun__ \n",
    "--->> Normal methods ---->> which can executed whenever we are calling \n",
    "\n",
    "'''\n",
    "print dir(str)"
   ]
  },
  {
   "cell_type": "code",
   "execution_count": 2,
   "metadata": {},
   "outputs": [
    {
     "name": "stdout",
     "output_type": "stream",
     "text": [
      "soc softech\n",
      "soc softech\n"
     ]
    }
   ],
   "source": [
    "a = \"soc \"\n",
    "b = \"softech\"\n",
    "print a+b\n",
    "print a.__add__(b)"
   ]
  },
  {
   "cell_type": "code",
   "execution_count": 3,
   "metadata": {},
   "outputs": [
    {
     "name": "stdout",
     "output_type": "stream",
     "text": [
      "Help on wrapper_descriptor:\n",
      "\n",
      "__add__(...)\n",
      "    x.__add__(y) <==> x+y\n",
      "\n"
     ]
    }
   ],
   "source": [
    "help(str.__add__)"
   ]
  },
  {
   "cell_type": "code",
   "execution_count": 5,
   "metadata": {},
   "outputs": [
    {
     "name": "stdout",
     "output_type": "stream",
     "text": [
      "True\n",
      "True\n"
     ]
    }
   ],
   "source": [
    "a= \"soc\"\n",
    "b= \"soc softech\"\n",
    "print a in b\n",
    "print b.__contains__(a)"
   ]
  },
  {
   "cell_type": "code",
   "execution_count": 6,
   "metadata": {},
   "outputs": [
    {
     "name": "stdout",
     "output_type": "stream",
     "text": [
      "Help on wrapper_descriptor:\n",
      "\n",
      "__contains__(...)\n",
      "    x.__contains__(y) <==> y in x\n",
      "\n"
     ]
    }
   ],
   "source": [
    "help(str.__contains__)"
   ]
  },
  {
   "cell_type": "code",
   "execution_count": 9,
   "metadata": {},
   "outputs": [
    {
     "name": "stdout",
     "output_type": "stream",
     "text": [
      "socsocsocsoc\n",
      "socsocsocsoc\n"
     ]
    }
   ],
   "source": [
    "a=\"soc\"\n",
    "print a * 4\n",
    "print a.__mul__(4)"
   ]
  },
  {
   "cell_type": "code",
   "execution_count": 10,
   "metadata": {},
   "outputs": [
    {
     "name": "stdout",
     "output_type": "stream",
     "text": [
      "True\n",
      "True\n",
      "False\n",
      "False\n"
     ]
    }
   ],
   "source": [
    "a=\"soc\"\n",
    "b = \"soc\"\n",
    "c = \"soe\"\n",
    "print a == b\n",
    "print a.__eq__(b)\n",
    "print a == c\n",
    "print a.__eq__(c)"
   ]
  },
  {
   "cell_type": "code",
   "execution_count": 11,
   "metadata": {},
   "outputs": [
    {
     "name": "stdout",
     "output_type": "stream",
     "text": [
      "True\n",
      "True\n",
      "True\n",
      "True\n"
     ]
    }
   ],
   "source": [
    "a=\"soc\"\n",
    "b = \"soc\"\n",
    "c = \"soe\"\n",
    "print a <= b\n",
    "print a.__le__(b)\n",
    "print a <= c\n",
    "print a.__le__(c)"
   ]
  },
  {
   "cell_type": "code",
   "execution_count": 13,
   "metadata": {},
   "outputs": [
    {
     "name": "stdout",
     "output_type": "stream",
     "text": [
      "True\n",
      "True\n",
      "False\n",
      "False\n"
     ]
    }
   ],
   "source": [
    "a=\"soc\"\n",
    "b = \"soc\"\n",
    "c = \"soe\"\n",
    "print a >= b\n",
    "print a.__ge__(b)\n",
    "print a >= c\n",
    "print a.__ge__(c)"
   ]
  },
  {
   "cell_type": "code",
   "execution_count": 14,
   "metadata": {},
   "outputs": [
    {
     "name": "stdout",
     "output_type": "stream",
     "text": [
      "False\n",
      "False\n",
      "True\n",
      "True\n"
     ]
    }
   ],
   "source": [
    "a=\"soc\"\n",
    "b = \"soc\"\n",
    "c = \"soe\"\n",
    "print a != b\n",
    "print a.__ne__(b)\n",
    "print a != c\n",
    "print a.__ne__(c)"
   ]
  },
  {
   "cell_type": "code",
   "execution_count": 15,
   "metadata": {},
   "outputs": [
    {
     "name": "stdout",
     "output_type": "stream",
     "text": [
      "False\n",
      "False\n",
      "True\n",
      "True\n"
     ]
    }
   ],
   "source": [
    "a=\"soc\"\n",
    "b = \"soc\"\n",
    "c = \"soe\"\n",
    "print a <  b\n",
    "print a.__lt__(b)\n",
    "print a < c\n",
    "print a.__lt__(c)"
   ]
  },
  {
   "cell_type": "code",
   "execution_count": 16,
   "metadata": {},
   "outputs": [
    {
     "name": "stdout",
     "output_type": "stream",
     "text": [
      "False\n",
      "False\n",
      "False\n",
      "False\n"
     ]
    }
   ],
   "source": [
    "a=\"soc\"\n",
    "b = \"soc\"\n",
    "c = \"soe\"\n",
    "print a > b\n",
    "print a.__gt__(b)\n",
    "print a > c\n",
    "print a.__gt__(c)"
   ]
  },
  {
   "cell_type": "code",
   "execution_count": 17,
   "metadata": {},
   "outputs": [
    {
     "name": "stdout",
     "output_type": "stream",
     "text": [
      "Sojjjf  dsdjsd\n",
      "********\n",
      "Help on method_descriptor:\n",
      "\n",
      "capitalize(...)\n",
      "    S.capitalize() -> string\n",
      "    \n",
      "    Return a copy of the string S with only its first character\n",
      "    capitalized.\n",
      "\n",
      "None\n"
     ]
    }
   ],
   "source": [
    "a = \"soJJJf  Dsdjsd\"\n",
    "print a.capitalize()\n",
    "print \"********\"\n",
    "print help(str.capitalize)"
   ]
  },
  {
   "cell_type": "code",
   "execution_count": 19,
   "metadata": {},
   "outputs": [
    {
     "name": "stdout",
     "output_type": "stream",
     "text": [
      "Sojjjf  Dsdfsd\n",
      "********\n",
      "Help on method_descriptor:\n",
      "\n",
      "title(...)\n",
      "    S.title() -> string\n",
      "    \n",
      "    Return a titlecased version of S, i.e. words start with uppercase\n",
      "    characters, all remaining cased characters have lowercase.\n",
      "\n",
      "None\n"
     ]
    }
   ],
   "source": [
    "a = \"soJJJf  DsdFsd\"\n",
    "print a.title()\n",
    "print \"********\"\n",
    "print help(str.title)"
   ]
  },
  {
   "cell_type": "code",
   "execution_count": 20,
   "metadata": {},
   "outputs": [
    {
     "name": "stdout",
     "output_type": "stream",
     "text": [
      "sojjjf  dsdjsd\n",
      "********\n",
      "Help on method_descriptor:\n",
      "\n",
      "lower(...)\n",
      "    S.lower() -> string\n",
      "    \n",
      "    Return a copy of the string S converted to lowercase.\n",
      "\n",
      "None\n"
     ]
    }
   ],
   "source": [
    "a = \"soJJJf  Dsdjsd\"\n",
    "print a.lower()\n",
    "print \"********\"\n",
    "print help(str.lower)"
   ]
  },
  {
   "cell_type": "code",
   "execution_count": 21,
   "metadata": {},
   "outputs": [
    {
     "name": "stdout",
     "output_type": "stream",
     "text": [
      "SOJJJF  DSDJSD\n",
      "********\n",
      "Help on method_descriptor:\n",
      "\n",
      "upper(...)\n",
      "    S.upper() -> string\n",
      "    \n",
      "    Return a copy of the string S converted to uppercase.\n",
      "\n",
      "None\n"
     ]
    }
   ],
   "source": [
    "a = \"soJJJf  Dsdjsd\"\n",
    "print a.upper()\n",
    "print \"********\"\n",
    "print help(str.upper)"
   ]
  },
  {
   "cell_type": "code",
   "execution_count": 23,
   "metadata": {},
   "outputs": [
    {
     "name": "stdout",
     "output_type": "stream",
     "text": [
      "SOjjjF  dSDJSD\n",
      "********\n",
      "Help on method_descriptor:\n",
      "\n",
      "swapcase(...)\n",
      "    S.swapcase() -> string\n",
      "    \n",
      "    Return a copy of the string S with uppercase characters\n",
      "    converted to lowercase and vice versa.\n",
      "\n",
      "None\n"
     ]
    }
   ],
   "source": [
    "a = \"soJJJf  Dsdjsd\"\n",
    "print a.swapcase()\n",
    "print \"********\"\n",
    "print help(str.swapcase)"
   ]
  },
  {
   "cell_type": "code",
   "execution_count": 25,
   "metadata": {},
   "outputs": [
    {
     "name": "stdout",
     "output_type": "stream",
     "text": [
      "['soJJJf', 'Dsdjsd']\n",
      "********\n",
      "Help on method_descriptor:\n",
      "\n",
      "split(...)\n",
      "    S.split([sep [,maxsplit]]) -> list of strings\n",
      "    \n",
      "    Return a list of the words in the string S, using sep as the\n",
      "    delimiter string.  If maxsplit is given, at most maxsplit\n",
      "    splits are done. If sep is not specified or is None, any\n",
      "    whitespace string is a separator and empty strings are removed\n",
      "    from the result.\n",
      "\n",
      "None\n"
     ]
    }
   ],
   "source": [
    "a = \"soJJJf  Dsdjsd\"\n",
    "print a.split()\n",
    "print \"********\"\n",
    "print help(str.split)"
   ]
  },
  {
   "cell_type": "code",
   "execution_count": 26,
   "metadata": {},
   "outputs": [
    {
     "name": "stdout",
     "output_type": "stream",
     "text": [
      "spc soc python\n"
     ]
    }
   ],
   "source": [
    "a = [\"spc\", \"soc\" , \"python\"]\n",
    "print \" \".join(a)"
   ]
  },
  {
   "cell_type": "code",
   "execution_count": 27,
   "metadata": {},
   "outputs": [
    {
     "name": "stdout",
     "output_type": "stream",
     "text": [
      "3\n",
      "********\n",
      "Help on method_descriptor:\n",
      "\n",
      "count(...)\n",
      "    S.count(sub[, start[, end]]) -> int\n",
      "    \n",
      "    Return the number of non-overlapping occurrences of substring sub in\n",
      "    string S[start:end].  Optional arguments start and end are interpreted\n",
      "    as in slice notation.\n",
      "\n",
      "None\n"
     ]
    }
   ],
   "source": [
    "a = \"soJJJf  Dsdjsd\"\n",
    "print a.count('s')\n",
    "print \"********\"\n",
    "print help(str.count)"
   ]
  },
  {
   "cell_type": "code",
   "execution_count": 29,
   "metadata": {},
   "outputs": [
    {
     "name": "stdout",
     "output_type": "stream",
     "text": [
      "111soJJJf  Dsdjsd111\n",
      "********\n",
      "Help on method_descriptor:\n",
      "\n",
      "center(...)\n",
      "    S.center(width[, fillchar]) -> string\n",
      "    \n",
      "    Return S centered in a string of length width. Padding is\n",
      "    done using the specified fill character (default is a space)\n",
      "\n",
      "None\n"
     ]
    }
   ],
   "source": [
    "a = \"soJJJf  Dsdjsd\"\n",
    "print a.center(20,'1')\n",
    "print \"********\"\n",
    "print help(str.center)"
   ]
  },
  {
   "cell_type": "code",
   "execution_count": 30,
   "metadata": {},
   "outputs": [
    {
     "name": "stdout",
     "output_type": "stream",
     "text": [
      "000000soJJJf  Dsdjsd\n",
      "********\n",
      "Help on method_descriptor:\n",
      "\n",
      "zfill(...)\n",
      "    S.zfill(width) -> string\n",
      "    \n",
      "    Pad a numeric string S with zeros on the left, to fill a field\n",
      "    of the specified width.  The string S is never truncated.\n",
      "\n",
      "None\n"
     ]
    }
   ],
   "source": [
    "a = \"soJJJf  Dsdjsd\"\n",
    "print a.zfill(20)\n",
    "print \"********\"\n",
    "print help(str.zfill)"
   ]
  },
  {
   "cell_type": "code",
   "execution_count": 31,
   "metadata": {},
   "outputs": [
    {
     "name": "stdout",
     "output_type": "stream",
     "text": [
      "SoJJJf  DSdjSd\n",
      "********\n",
      "Help on method_descriptor:\n",
      "\n",
      "replace(...)\n",
      "    S.replace(old, new[, count]) -> string\n",
      "    \n",
      "    Return a copy of string S with all occurrences of substring\n",
      "    old replaced by new.  If the optional argument count is\n",
      "    given, only the first count occurrences are replaced.\n",
      "\n",
      "None\n"
     ]
    }
   ],
   "source": [
    "a = \"soJJJf  Dsdjsd\"\n",
    "print a.replace('s',\"S\")\n",
    "print \"********\"\n",
    "print help(str.replace)"
   ]
  },
  {
   "cell_type": "code",
   "execution_count": 32,
   "metadata": {},
   "outputs": [
    {
     "name": "stdout",
     "output_type": "stream",
     "text": [
      "True\n"
     ]
    }
   ],
   "source": [
    "a= \"soc\"\n",
    "print a.islower()"
   ]
  },
  {
   "cell_type": "code",
   "execution_count": 33,
   "metadata": {},
   "outputs": [
    {
     "name": "stdout",
     "output_type": "stream",
     "text": [
      "True\n"
     ]
    }
   ],
   "source": [
    "a = \"SKDD\"\n",
    "print a.isupper()"
   ]
  },
  {
   "cell_type": "code",
   "execution_count": 34,
   "metadata": {},
   "outputs": [
    {
     "name": "stdout",
     "output_type": "stream",
     "text": [
      "True\n"
     ]
    }
   ],
   "source": [
    "a = \"Amndsn Sskdsjfj\"\n",
    "print a.istitle()"
   ]
  },
  {
   "cell_type": "code",
   "execution_count": 35,
   "metadata": {},
   "outputs": [
    {
     "name": "stdout",
     "output_type": "stream",
     "text": [
      "True\n"
     ]
    }
   ],
   "source": [
    "a = \"29338\"\n",
    "print a.isdigit()\n"
   ]
  },
  {
   "cell_type": "code",
   "execution_count": 36,
   "metadata": {},
   "outputs": [
    {
     "name": "stdout",
     "output_type": "stream",
     "text": [
      "True\n"
     ]
    }
   ],
   "source": [
    "a = \"akdkK33\"\n",
    "print a.isalnum()"
   ]
  },
  {
   "cell_type": "code",
   "execution_count": 37,
   "metadata": {},
   "outputs": [
    {
     "name": "stdout",
     "output_type": "stream",
     "text": [
      "True\n"
     ]
    }
   ],
   "source": [
    "a = \"kldfdklfd\"\n",
    "print a.isalpha()"
   ]
  },
  {
   "cell_type": "code",
   "execution_count": null,
   "metadata": {},
   "outputs": [],
   "source": []
  }
 ],
 "metadata": {
  "kernelspec": {
   "display_name": "Python 2",
   "language": "python",
   "name": "python2"
  },
  "language_info": {
   "codemirror_mode": {
    "name": "ipython",
    "version": 2
   },
   "file_extension": ".py",
   "mimetype": "text/x-python",
   "name": "python",
   "nbconvert_exporter": "python",
   "pygments_lexer": "ipython2",
   "version": "2.7.16"
  }
 },
 "nbformat": 4,
 "nbformat_minor": 2
}
