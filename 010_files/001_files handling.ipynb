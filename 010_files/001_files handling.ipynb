{
 "cells": [
  {
   "cell_type": "markdown",
   "metadata": {},
   "source": [
    "#### file \n",
    "\n",
    "--->> Collection of related data\n",
    "\n",
    "#### types \n",
    "\n",
    "1. Binary file\n",
    "\n",
    "    -->> file containing the 0  & 1 \n",
    "    \n",
    "    -->> image files , video files , executable files\n",
    "\n",
    "2. Text file\n",
    "\n",
    "    --->> Files are containing the  alphanumarical data \n",
    "    \n",
    "    --->> .txt / .doc / .ppt\n",
    "    \n",
    "#### file operations\n",
    "\n",
    "1. creating the file\n",
    "\n",
    "2. opening the file\n",
    "\n",
    "3. writing the data into the file\n",
    "\n",
    "4. reading the data from the file\n",
    "\n",
    "5. closing the file \n",
    "\n",
    "#### file handling \n",
    "\n",
    "--->> the  file operation can do by python programminig language \n",
    "\n",
    "---->> FILE is a pre defined class\n",
    "\n",
    "--->> with in the file class we have all file operational methods \n",
    "\n",
    "--->> if you want use file methods we should have file object \n",
    "\n",
    "--->> open() -->> to create  the file object\n",
    "\n",
    "--->> close() --->> closing the file\n",
    "\n",
    "--->> read(n) --->> reading the n characters \n",
    "\n",
    "--->> read() --->> reading the  whole data from the file \n",
    "\n",
    "--->> readline() -->> reading the single line at a time\n",
    "\n",
    "--->> readlines() -->> we can read all lines at a time \n",
    "\n",
    "--->> write() ---->>>> to write the data into the file "
   ]
  },
  {
   "cell_type": "code",
   "execution_count": 1,
   "metadata": {},
   "outputs": [],
   "source": [
    "#file_obj = open(\"filename\",\"mode\")# opening the file \n",
    "# mode\n",
    "'''\n",
    "write mode :- \n",
    "\n",
    "--->> w\n",
    "        --->> file is not existed then create the file\n",
    "        --->> file is having some data then the data can lost\n",
    "        --->> only write method can support \n",
    "\n",
    "--->> w+\n",
    "\n",
    "        --->> file is not existed then create the file\n",
    "        --->> file is having some data then the data can lost\n",
    "        --->> both read methods & write methods can supports \n",
    "read mode \n",
    "\n",
    "append mode\n",
    "\n",
    "'''\n",
    "# w mode\n",
    "\n",
    "fo = open(\"sample.txt\",\"w\") # file is not existed then create the file\n",
    "fo.close()"
   ]
  },
  {
   "cell_type": "code",
   "execution_count": 2,
   "metadata": {},
   "outputs": [],
   "source": [
    "# w mode\n",
    "\n",
    "fo = open(\"sample.txt\",\"w\")#file is having some data then the data can lost\n",
    "fo.close()"
   ]
  },
  {
   "cell_type": "code",
   "execution_count": 3,
   "metadata": {},
   "outputs": [
    {
     "ename": "IOError",
     "evalue": "File not open for reading",
     "output_type": "error",
     "traceback": [
      "\u001b[1;31m---------------------------------------------------------------------------\u001b[0m",
      "\u001b[1;31mIOError\u001b[0m                                   Traceback (most recent call last)",
      "\u001b[1;32m<ipython-input-3-14a145dd4bb2>\u001b[0m in \u001b[0;36m<module>\u001b[1;34m()\u001b[0m\n\u001b[0;32m      2\u001b[0m \u001b[1;33m\u001b[0m\u001b[0m\n\u001b[0;32m      3\u001b[0m \u001b[0mfo\u001b[0m \u001b[1;33m=\u001b[0m \u001b[0mopen\u001b[0m\u001b[1;33m(\u001b[0m\u001b[1;34m\"sample.txt\"\u001b[0m\u001b[1;33m,\u001b[0m\u001b[1;34m\"w\"\u001b[0m\u001b[1;33m)\u001b[0m\u001b[1;31m#file is having some data then the data can lost\u001b[0m\u001b[1;33m\u001b[0m\u001b[0m\n\u001b[1;32m----> 4\u001b[1;33m \u001b[1;32mprint\u001b[0m \u001b[0mfo\u001b[0m\u001b[1;33m.\u001b[0m\u001b[0mread\u001b[0m\u001b[1;33m(\u001b[0m\u001b[1;33m)\u001b[0m\u001b[1;33m\u001b[0m\u001b[0m\n\u001b[0m\u001b[0;32m      5\u001b[0m \u001b[0mfo\u001b[0m\u001b[1;33m.\u001b[0m\u001b[0mclose\u001b[0m\u001b[1;33m(\u001b[0m\u001b[1;33m)\u001b[0m\u001b[1;33m\u001b[0m\u001b[0m\n",
      "\u001b[1;31mIOError\u001b[0m: File not open for reading"
     ]
    }
   ],
   "source": [
    "# w mode\n",
    "\n",
    "fo = open(\"sample.txt\",\"w\")#only write method can support \n",
    "print fo.read()\n",
    "fo.close()"
   ]
  },
  {
   "cell_type": "code",
   "execution_count": 5,
   "metadata": {},
   "outputs": [
    {
     "name": "stdout",
     "output_type": "stream",
     "text": [
      "enter some data : \"123456789\"\n"
     ]
    }
   ],
   "source": [
    "# w mode\n",
    "\n",
    "fo = open(\"sample.txt\",\"w\")#file is having some data then the data can lost\n",
    "data =input(\"enter some data : \")\n",
    "fo.write(data)\n",
    "fo.close()"
   ]
  },
  {
   "cell_type": "code",
   "execution_count": 6,
   "metadata": {},
   "outputs": [],
   "source": [
    "# w+ mode\n",
    "fo = open(\"sample.txt\",\"w+\")#file is having some data then the data can lost\n",
    "#data =input(\"enter some data : \")\n",
    "#fo.write(data)\n",
    "fo.close()"
   ]
  },
  {
   "cell_type": "code",
   "execution_count": 7,
   "metadata": {},
   "outputs": [],
   "source": [
    "# w+ mode\n",
    "fo = open(\"sample1.txt\",\"w+\")#file is not  having then create the file\n",
    "#data =input(\"enter some data : \")\n",
    "#fo.write(data)\n",
    "fo.close()"
   ]
  },
  {
   "cell_type": "code",
   "execution_count": 8,
   "metadata": {},
   "outputs": [
    {
     "name": "stdout",
     "output_type": "stream",
     "text": [
      "enter some data : \"12345\"\n",
      "12345\n"
     ]
    }
   ],
   "source": [
    "# w+ mode\n",
    "fo = open(\"sample1.txt\",\"w+\")# both read and write methods can work\n",
    "data =input(\"enter some data : \")\n",
    "fo.write(data)\n",
    "fo.seek(0,0)\n",
    "print fo.read()\n",
    "fo.close()"
   ]
  },
  {
   "cell_type": "code",
   "execution_count": 1,
   "metadata": {},
   "outputs": [
    {
     "name": "stdout",
     "output_type": "stream",
     "text": [
      "enter data : \"i am new file \"\n"
     ]
    }
   ],
   "source": [
    "#### append mode\n",
    "'''\n",
    "a  ----->> file is not existed then create the new file\n",
    "    --->> file is existed with some data then file can open  & data also safe\n",
    "    --->> only for writing \n",
    "\n",
    "a+ ----->> file is not existed then create the new file\n",
    "    --->> file is existed with some data then file can open  & data also safe\n",
    "    --->> both read + write \n",
    "\n",
    "'''\n",
    "fo = open(\"sample2.txt\",\"a\") # file is not existed then create the new file\n",
    "data = input(\"enter data : \")\n",
    "fo.write(data)\n",
    "fo.close()"
   ]
  },
  {
   "cell_type": "code",
   "execution_count": 2,
   "metadata": {},
   "outputs": [
    {
     "name": "stdout",
     "output_type": "stream",
     "text": [
      "enter data : \"i am also new file only\"\n"
     ]
    }
   ],
   "source": [
    "fo = open(\"sample3.txt\",\"a+\") # file is not existed then create the new file\n",
    "data = input(\"enter data : \")\n",
    "fo.write(data)\n",
    "fo.close()"
   ]
  },
  {
   "cell_type": "code",
   "execution_count": 3,
   "metadata": {},
   "outputs": [
    {
     "name": "stdout",
     "output_type": "stream",
     "text": [
      "enter data : \"456789123 i am appending\"\n"
     ]
    }
   ],
   "source": [
    "fo = open(\"sample2.txt\",\"a\") # file is existed  with data then open file and data safe\n",
    "data = input(\"enter data : \")\n",
    "fo.write(data)\n",
    "fo.close()"
   ]
  },
  {
   "cell_type": "code",
   "execution_count": 4,
   "metadata": {},
   "outputs": [
    {
     "name": "stdout",
     "output_type": "stream",
     "text": [
      "enter data : \" 456234 kjffjfh\"\n"
     ]
    }
   ],
   "source": [
    "fo = open(\"sample3.txt\",\"a+\") # file is existed  with data then open file and data safe\n",
    "data = input(\"enter data : \")\n",
    "fo.write(data)\n",
    "fo.close()"
   ]
  },
  {
   "cell_type": "code",
   "execution_count": 5,
   "metadata": {},
   "outputs": [
    {
     "name": "stdout",
     "output_type": "stream",
     "text": [
      "enter data : \"i am \\n jsdfhb\"\n"
     ]
    }
   ],
   "source": [
    "fo = open(\"sample3.txt\",\"a+\") # file is existed  with data then open file and data safe\n",
    "data = input(\"enter data : \")\n",
    "fo.write(data)\n",
    "fo.close()"
   ]
  },
  {
   "cell_type": "code",
   "execution_count": 6,
   "metadata": {},
   "outputs": [
    {
     "ename": "IOError",
     "evalue": "File not open for reading",
     "output_type": "error",
     "traceback": [
      "\u001b[1;31m---------------------------------------------------------------------------\u001b[0m",
      "\u001b[1;31mIOError\u001b[0m                                   Traceback (most recent call last)",
      "\u001b[1;32m<ipython-input-6-41b4b6ee70f5>\u001b[0m in \u001b[0;36m<module>\u001b[1;34m()\u001b[0m\n\u001b[0;32m      1\u001b[0m \u001b[0mfo\u001b[0m \u001b[1;33m=\u001b[0m \u001b[0mopen\u001b[0m\u001b[1;33m(\u001b[0m\u001b[1;34m\"sample3.txt\"\u001b[0m\u001b[1;33m,\u001b[0m\u001b[1;34m\"a\"\u001b[0m\u001b[1;33m)\u001b[0m \u001b[1;31m# file is existed  with data then open file and data safe\u001b[0m\u001b[1;33m\u001b[0m\u001b[0m\n\u001b[1;32m----> 2\u001b[1;33m \u001b[1;32mprint\u001b[0m \u001b[0mfo\u001b[0m\u001b[1;33m.\u001b[0m\u001b[0mread\u001b[0m\u001b[1;33m(\u001b[0m\u001b[1;33m)\u001b[0m\u001b[1;33m\u001b[0m\u001b[0m\n\u001b[0m\u001b[0;32m      3\u001b[0m \u001b[0mdata\u001b[0m \u001b[1;33m=\u001b[0m \u001b[0minput\u001b[0m\u001b[1;33m(\u001b[0m\u001b[1;34m\"enter data : \"\u001b[0m\u001b[1;33m)\u001b[0m\u001b[1;33m\u001b[0m\u001b[0m\n\u001b[0;32m      4\u001b[0m \u001b[0mfo\u001b[0m\u001b[1;33m.\u001b[0m\u001b[0mwrite\u001b[0m\u001b[1;33m(\u001b[0m\u001b[0mdata\u001b[0m\u001b[1;33m)\u001b[0m\u001b[1;33m\u001b[0m\u001b[0m\n\u001b[0;32m      5\u001b[0m \u001b[0mfo\u001b[0m\u001b[1;33m.\u001b[0m\u001b[0mclose\u001b[0m\u001b[1;33m(\u001b[0m\u001b[1;33m)\u001b[0m\u001b[1;33m\u001b[0m\u001b[0m\n",
      "\u001b[1;31mIOError\u001b[0m: File not open for reading"
     ]
    }
   ],
   "source": [
    "fo = open(\"sample3.txt\",\"a\") # file is existed  with data then open file and data safe\n",
    "print fo.read()\n",
    "data = input(\"enter data : \")\n",
    "fo.write(data)\n",
    "fo.close()"
   ]
  },
  {
   "cell_type": "code",
   "execution_count": 7,
   "metadata": {},
   "outputs": [
    {
     "name": "stdout",
     "output_type": "stream",
     "text": [
      "i am also new file only 456234 kjffjfhi am \n",
      " jsdfhb\n",
      "enter data : \"34556\"\n"
     ]
    },
    {
     "ename": "IOError",
     "evalue": "[Errno 0] Error",
     "output_type": "error",
     "traceback": [
      "\u001b[1;31m---------------------------------------------------------------------------\u001b[0m",
      "\u001b[1;31mIOError\u001b[0m                                   Traceback (most recent call last)",
      "\u001b[1;32m<ipython-input-7-e8c6eaa4c8a7>\u001b[0m in \u001b[0;36m<module>\u001b[1;34m()\u001b[0m\n\u001b[0;32m      2\u001b[0m \u001b[1;32mprint\u001b[0m \u001b[0mfo\u001b[0m\u001b[1;33m.\u001b[0m\u001b[0mread\u001b[0m\u001b[1;33m(\u001b[0m\u001b[1;33m)\u001b[0m\u001b[1;33m\u001b[0m\u001b[0m\n\u001b[0;32m      3\u001b[0m \u001b[0mdata\u001b[0m \u001b[1;33m=\u001b[0m \u001b[0minput\u001b[0m\u001b[1;33m(\u001b[0m\u001b[1;34m\"enter data : \"\u001b[0m\u001b[1;33m)\u001b[0m\u001b[1;33m\u001b[0m\u001b[0m\n\u001b[1;32m----> 4\u001b[1;33m \u001b[0mfo\u001b[0m\u001b[1;33m.\u001b[0m\u001b[0mwrite\u001b[0m\u001b[1;33m(\u001b[0m\u001b[0mdata\u001b[0m\u001b[1;33m)\u001b[0m\u001b[1;33m\u001b[0m\u001b[0m\n\u001b[0m\u001b[0;32m      5\u001b[0m \u001b[0mfo\u001b[0m\u001b[1;33m.\u001b[0m\u001b[0mclose\u001b[0m\u001b[1;33m(\u001b[0m\u001b[1;33m)\u001b[0m\u001b[1;33m\u001b[0m\u001b[0m\n",
      "\u001b[1;31mIOError\u001b[0m: [Errno 0] Error"
     ]
    }
   ],
   "source": [
    "fo = open(\"sample3.txt\",\"a+\") # file is existed  with data then open file and data safe\n",
    "print fo.read()\n",
    "data = input(\"enter data : \")\n",
    "fo.write(data)\n",
    "fo.close()"
   ]
  },
  {
   "cell_type": "code",
   "execution_count": 8,
   "metadata": {},
   "outputs": [
    {
     "name": "stdout",
     "output_type": "stream",
     "text": [
      "enter data : \"1234\"\n",
      "i am also new file only 456234 kjffjfhi am \n",
      " jsdfhb1234\n"
     ]
    }
   ],
   "source": [
    "fo = open(\"sample3.txt\",\"a+\") # file is existed  with data then open file and data safe\n",
    "\n",
    "data = input(\"enter data : \")\n",
    "fo.write(data)\n",
    "fo.seek(0,0)\n",
    "print fo.read()\n",
    "fo.close()"
   ]
  },
  {
   "cell_type": "code",
   "execution_count": 9,
   "metadata": {},
   "outputs": [
    {
     "name": "stdout",
     "output_type": "stream",
     "text": [
      "i am also new file only 456234 kjffjfhi am \n",
      " jsdfhb1234\n"
     ]
    }
   ],
   "source": [
    "fo = open(\"sample3.txt\",\"r\") # file is existed  with data then open file and data safe\n",
    "print fo.read()\n",
    "#data = input(\"enter data : \")\n",
    "#fo.write(data)\n",
    "fo.close()"
   ]
  },
  {
   "cell_type": "code",
   "execution_count": 10,
   "metadata": {},
   "outputs": [
    {
     "ename": "IOError",
     "evalue": "[Errno 2] No such file or directory: 'sample4.txt'",
     "output_type": "error",
     "traceback": [
      "\u001b[1;31m---------------------------------------------------------------------------\u001b[0m",
      "\u001b[1;31mIOError\u001b[0m                                   Traceback (most recent call last)",
      "\u001b[1;32m<ipython-input-10-3dc840900874>\u001b[0m in \u001b[0;36m<module>\u001b[1;34m()\u001b[0m\n\u001b[1;32m----> 1\u001b[1;33m \u001b[0mfo\u001b[0m \u001b[1;33m=\u001b[0m \u001b[0mopen\u001b[0m\u001b[1;33m(\u001b[0m\u001b[1;34m\"sample4.txt\"\u001b[0m\u001b[1;33m,\u001b[0m\u001b[1;34m\"r\"\u001b[0m\u001b[1;33m)\u001b[0m \u001b[1;31m# file is existed  with data then open file and data safe\u001b[0m\u001b[1;33m\u001b[0m\u001b[0m\n\u001b[0m\u001b[0;32m      2\u001b[0m \u001b[1;32mprint\u001b[0m \u001b[0mfo\u001b[0m\u001b[1;33m.\u001b[0m\u001b[0mread\u001b[0m\u001b[1;33m(\u001b[0m\u001b[1;33m)\u001b[0m\u001b[1;33m\u001b[0m\u001b[0m\n\u001b[0;32m      3\u001b[0m \u001b[1;31m#data = input(\"enter data : \")\u001b[0m\u001b[1;33m\u001b[0m\u001b[1;33m\u001b[0m\u001b[0m\n\u001b[0;32m      4\u001b[0m \u001b[1;31m#fo.write(data)\u001b[0m\u001b[1;33m\u001b[0m\u001b[1;33m\u001b[0m\u001b[0m\n\u001b[0;32m      5\u001b[0m \u001b[0mfo\u001b[0m\u001b[1;33m.\u001b[0m\u001b[0mclose\u001b[0m\u001b[1;33m(\u001b[0m\u001b[1;33m)\u001b[0m\u001b[1;33m\u001b[0m\u001b[0m\n",
      "\u001b[1;31mIOError\u001b[0m: [Errno 2] No such file or directory: 'sample4.txt'"
     ]
    }
   ],
   "source": [
    "fo = open(\"sample4.txt\",\"r\") # file is existed  with data then open file and data safe\n",
    "print fo.read()\n",
    "#data = input(\"enter data : \")\n",
    "#fo.write(data)\n",
    "fo.close()"
   ]
  },
  {
   "cell_type": "code",
   "execution_count": 11,
   "metadata": {},
   "outputs": [
    {
     "name": "stdout",
     "output_type": "stream",
     "text": [
      "i am also new file only 456234 kjffjfhi am \n",
      " jsdfhb1234\n",
      "enter data : \"123\"\n"
     ]
    },
    {
     "ename": "IOError",
     "evalue": "File not open for writing",
     "output_type": "error",
     "traceback": [
      "\u001b[1;31m---------------------------------------------------------------------------\u001b[0m",
      "\u001b[1;31mIOError\u001b[0m                                   Traceback (most recent call last)",
      "\u001b[1;32m<ipython-input-11-27155a82db72>\u001b[0m in \u001b[0;36m<module>\u001b[1;34m()\u001b[0m\n\u001b[0;32m      2\u001b[0m \u001b[1;32mprint\u001b[0m \u001b[0mfo\u001b[0m\u001b[1;33m.\u001b[0m\u001b[0mread\u001b[0m\u001b[1;33m(\u001b[0m\u001b[1;33m)\u001b[0m\u001b[1;33m\u001b[0m\u001b[0m\n\u001b[0;32m      3\u001b[0m \u001b[0mdata\u001b[0m \u001b[1;33m=\u001b[0m \u001b[0minput\u001b[0m\u001b[1;33m(\u001b[0m\u001b[1;34m\"enter data : \"\u001b[0m\u001b[1;33m)\u001b[0m\u001b[1;33m\u001b[0m\u001b[0m\n\u001b[1;32m----> 4\u001b[1;33m \u001b[0mfo\u001b[0m\u001b[1;33m.\u001b[0m\u001b[0mwrite\u001b[0m\u001b[1;33m(\u001b[0m\u001b[0mdata\u001b[0m\u001b[1;33m)\u001b[0m\u001b[1;33m\u001b[0m\u001b[0m\n\u001b[0m\u001b[0;32m      5\u001b[0m \u001b[0mfo\u001b[0m\u001b[1;33m.\u001b[0m\u001b[0mclose\u001b[0m\u001b[1;33m(\u001b[0m\u001b[1;33m)\u001b[0m\u001b[1;33m\u001b[0m\u001b[0m\n",
      "\u001b[1;31mIOError\u001b[0m: File not open for writing"
     ]
    }
   ],
   "source": [
    "fo = open(\"sample3.txt\",\"r\") # file is existed  with data then open file and data safe\n",
    "print fo.read()\n",
    "data = input(\"enter data : \")\n",
    "fo.write(data)\n",
    "fo.close()"
   ]
  },
  {
   "cell_type": "code",
   "execution_count": 12,
   "metadata": {},
   "outputs": [
    {
     "name": "stdout",
     "output_type": "stream",
     "text": [
      "i am also new file only 456234 kjffjfhi am \n",
      " jsdfhb1234\n"
     ]
    }
   ],
   "source": [
    "fo = open(\"sample3.txt\",\"r+\") # file is existed  with data then open file and data safe\n",
    "print fo.read()\n",
    "#data = input(\"enter data : \")\n",
    "#fo.write(data)\n",
    "fo.close()"
   ]
  },
  {
   "cell_type": "code",
   "execution_count": 13,
   "metadata": {},
   "outputs": [
    {
     "name": "stdout",
     "output_type": "stream",
     "text": [
      "i am also new file only 456234 kjffjfhi am \n",
      " jsdfhb1234\n",
      "enter data : \"123\"\n"
     ]
    },
    {
     "ename": "IOError",
     "evalue": "[Errno 0] Error",
     "output_type": "error",
     "traceback": [
      "\u001b[1;31m---------------------------------------------------------------------------\u001b[0m",
      "\u001b[1;31mIOError\u001b[0m                                   Traceback (most recent call last)",
      "\u001b[1;32m<ipython-input-13-6bf7d23b48a8>\u001b[0m in \u001b[0;36m<module>\u001b[1;34m()\u001b[0m\n\u001b[0;32m      2\u001b[0m \u001b[1;32mprint\u001b[0m \u001b[0mfo\u001b[0m\u001b[1;33m.\u001b[0m\u001b[0mread\u001b[0m\u001b[1;33m(\u001b[0m\u001b[1;33m)\u001b[0m\u001b[1;33m\u001b[0m\u001b[0m\n\u001b[0;32m      3\u001b[0m \u001b[0mdata\u001b[0m \u001b[1;33m=\u001b[0m \u001b[0minput\u001b[0m\u001b[1;33m(\u001b[0m\u001b[1;34m\"enter data : \"\u001b[0m\u001b[1;33m)\u001b[0m\u001b[1;33m\u001b[0m\u001b[0m\n\u001b[1;32m----> 4\u001b[1;33m \u001b[0mfo\u001b[0m\u001b[1;33m.\u001b[0m\u001b[0mwrite\u001b[0m\u001b[1;33m(\u001b[0m\u001b[0mdata\u001b[0m\u001b[1;33m)\u001b[0m\u001b[1;33m\u001b[0m\u001b[0m\n\u001b[0m\u001b[0;32m      5\u001b[0m \u001b[0mfo\u001b[0m\u001b[1;33m.\u001b[0m\u001b[0mclose\u001b[0m\u001b[1;33m(\u001b[0m\u001b[1;33m)\u001b[0m\u001b[1;33m\u001b[0m\u001b[0m\n",
      "\u001b[1;31mIOError\u001b[0m: [Errno 0] Error"
     ]
    }
   ],
   "source": [
    "fo = open(\"sample3.txt\",\"r+\") # file is existed  with data then open file and data safe\n",
    "print fo.read()\n",
    "data = input(\"enter data : \")\n",
    "fo.write(data)\n",
    "fo.close()"
   ]
  },
  {
   "cell_type": "code",
   "execution_count": 16,
   "metadata": {},
   "outputs": [
    {
     "name": "stdout",
     "output_type": "stream",
     "text": [
      "enter data : \"1234\"\n",
      "1234 also new file only 456234 kjffjfhi am \n",
      " jsdfhb1234\n"
     ]
    }
   ],
   "source": [
    "fo = open(\"sample3.txt\",\"r+\") # file is existed  with data then open file and data safe\n",
    "#print fo.read()\n",
    "data = input(\"enter data : \")\n",
    "fo.write(data)\n",
    "fo.seek(0,0)\n",
    "print fo.read()\n",
    "fo.close()"
   ]
  },
  {
   "cell_type": "code",
   "execution_count": null,
   "metadata": {},
   "outputs": [],
   "source": []
  },
  {
   "cell_type": "code",
   "execution_count": null,
   "metadata": {},
   "outputs": [],
   "source": []
  }
 ],
 "metadata": {
  "kernelspec": {
   "display_name": "Python 2",
   "language": "python",
   "name": "python2"
  },
  "language_info": {
   "codemirror_mode": {
    "name": "ipython",
    "version": 2
   },
   "file_extension": ".py",
   "mimetype": "text/x-python",
   "name": "python",
   "nbconvert_exporter": "python",
   "pygments_lexer": "ipython2",
   "version": "2.7.16"
  }
 },
 "nbformat": 4,
 "nbformat_minor": 2
}
