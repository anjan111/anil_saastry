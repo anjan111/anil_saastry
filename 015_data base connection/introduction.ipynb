{
 "cells": [
  {
   "cell_type": "code",
   "execution_count": 1,
   "metadata": {},
   "outputs": [
    {
     "name": "stdout",
     "output_type": "stream",
     "text": [
      "(1, u'anjan', u'9640987960')\n",
      "(2, u'anil', u'234546478')\n"
     ]
    }
   ],
   "source": [
    "import sqlite3 as sql\n",
    "con = sql.connect('sample.db')\n",
    "cur = con.cursor()\n",
    "cur.execute(\"select * from employee\")\n",
    "for record in cur.fetchall():\n",
    "    print record"
   ]
  },
  {
   "cell_type": "code",
   "execution_count": 3,
   "metadata": {},
   "outputs": [],
   "source": [
    "import sqlite3 as sql\n",
    "con = sql.connect('sample.db')\n",
    "cur = con.cursor()\n",
    "cur.execute(\"insert into student values(12,'anjan',90899)\")\n",
    "cur.execute(\"insert into student values(10,'anil',9099)\")\n",
    "con.commit()\n",
    "con.close()"
   ]
  },
  {
   "cell_type": "code",
   "execution_count": 4,
   "metadata": {},
   "outputs": [],
   "source": [
    "import sqlite3 as sql\n",
    "con = sql.connect('sample.db')\n",
    "cur = con.cursor()\n",
    "cur.execute(\"update employee set name = 'kumar' where name = 'anil'\")\n",
    "cur.execute(\"insert into student values(10,'anil',9099)\")\n",
    "con.commit()\n",
    "con.close()"
   ]
  },
  {
   "cell_type": "code",
   "execution_count": 6,
   "metadata": {},
   "outputs": [],
   "source": [
    "import sqlite3 as sql\n",
    "con = sql.connect('sample.db')\n",
    "cur = con.cursor()\n",
    "cur.execute(\"delete from  employee where  name = 'kumar'\")\n",
    "\n",
    "con.commit()\n",
    "con.close()"
   ]
  },
  {
   "cell_type": "code",
   "execution_count": 7,
   "metadata": {},
   "outputs": [],
   "source": [
    "import sqlite3 as sql\n",
    "con = sql.connect('sample.db')\n",
    "cur = con.cursor()\n",
    "cur.execute(\"CREATE table sam(s_no , phone)\")\n",
    "\n",
    "con.commit()\n",
    "con.close()"
   ]
  },
  {
   "cell_type": "code",
   "execution_count": null,
   "metadata": {},
   "outputs": [],
   "source": []
  }
 ],
 "metadata": {
  "kernelspec": {
   "display_name": "Python 2",
   "language": "python",
   "name": "python2"
  },
  "language_info": {
   "codemirror_mode": {
    "name": "ipython",
    "version": 2
   },
   "file_extension": ".py",
   "mimetype": "text/x-python",
   "name": "python",
   "nbconvert_exporter": "python",
   "pygments_lexer": "ipython2",
   "version": "2.7.16"
  }
 },
 "nbformat": 4,
 "nbformat_minor": 2
}
