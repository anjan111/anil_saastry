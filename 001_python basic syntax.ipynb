{
 "cells": [
  {
   "cell_type": "markdown",
   "metadata": {},
   "source": [
    "#####  syntax\n",
    "\n",
    "===>>> the structure / rules for writing a program\n",
    "\n",
    "##### program\n",
    "\n",
    "===>>> collection / set of instruction to do any one specefic task\n",
    "\n",
    "##### instruction\n",
    "\n",
    "===>>> A line of code with in the program\n",
    "\n",
    "###### we have two types instructions\n",
    "\n",
    "1.  comment \n",
    "\n",
    "    ==>> An instruction which can't be executable\n",
    "    \n",
    "    ==>> to give the documentation each and every statement\n",
    "    \n",
    "    \n",
    "\n",
    "2.  statement\n",
    "\n",
    "    ==>> An instruction which can be executable\n",
    "    \n",
    "\n",
    "    "
   ]
  },
  {
   "cell_type": "code",
   "execution_count": 1,
   "metadata": {},
   "outputs": [
    {
     "name": "stdout",
     "output_type": "stream",
     "text": [
      "hello\n",
      "hai\n"
     ]
    }
   ],
   "source": [
    "# single line comment\n",
    "'''\n",
    "this is\n",
    "multiline \n",
    "comment\n",
    "'''\n",
    "print \"hello\" #statement\n",
    "print \"hai\" # statement"
   ]
  },
  {
   "cell_type": "markdown",
   "metadata": {},
   "source": [
    "##### keywords\n",
    "\n",
    "===>> which are already defined words --->> predefined words\n",
    "\n",
    "===>> each and every keyword which having it's specific task\n",
    "\n",
    "##### identifiers\n",
    "\n",
    "===>> which programmer defined words --->> user defined words\n",
    "\n",
    "===>> to give the name entities for variable / function and class\n",
    "\n",
    "###### Rules \n",
    "\n",
    "    ==>> we can use alphabets   a-z / A-Z\n",
    "    \n",
    "    ==>> we can use digits     0-9\n",
    "    \n",
    "    ==>> we can use underscore  _\n",
    "    \n",
    "    ==>> don't start with digit  0-9\n",
    "    \n",
    "    ==>> don't use keywords \n",
    "    \n",
    "    ==>> don't use special character   ~`!@#$%^&*(){}_+*?/'><,.\n",
    "\n",
    "\n",
    "\n",
    "\n",
    "\n",
    "\n",
    "\n"
   ]
  },
  {
   "cell_type": "code",
   "execution_count": 3,
   "metadata": {},
   "outputs": [
    {
     "name": "stdout",
     "output_type": "stream",
     "text": [
      "['and', 'as', 'assert', 'break', 'class', 'continue', 'def', 'del', 'elif', 'else', 'except', 'exec', 'finally', 'for', 'from', 'global', 'if', 'import', 'in', 'is', 'lambda', 'not', 'or', 'pass', 'print', 'raise', 'return', 'try', 'while', 'with', 'yield']\n"
     ]
    }
   ],
   "source": [
    "import keyword # import is a one keyword\n",
    "print keyword.kwlist"
   ]
  },
  {
   "cell_type": "markdown",
   "metadata": {},
   "source": [
    "###### variable \n",
    "\n",
    "==>> the names are used for to representation of memory location\n",
    "\n",
    "==>> to store the data with in memory loc\n",
    "\n",
    "==>> we can access the data from memory loc\n",
    "\n",
    "===>> we can use same rules of identifiers\n",
    "\n",
    "===>> we don't need to be declaration"
   ]
  },
  {
   "cell_type": "code",
   "execution_count": 4,
   "metadata": {},
   "outputs": [
    {
     "name": "stdout",
     "output_type": "stream",
     "text": [
      "123\n",
      "24219824\n"
     ]
    }
   ],
   "source": [
    "var =123\n",
    "print var\n",
    "print id(var)# memory loc"
   ]
  },
  {
   "cell_type": "code",
   "execution_count": 6,
   "metadata": {},
   "outputs": [
    {
     "name": "stdout",
     "output_type": "stream",
     "text": [
      "123\n",
      "24219824\n"
     ]
    }
   ],
   "source": [
    "VAR =123\n",
    "print VAR\n",
    "print id(VAR)\n"
   ]
  },
  {
   "cell_type": "code",
   "execution_count": 8,
   "metadata": {},
   "outputs": [
    {
     "name": "stdout",
     "output_type": "stream",
     "text": [
      "123\n",
      "24219824\n"
     ]
    }
   ],
   "source": [
    "_va_ =123\n",
    "print _va_\n",
    "print id(_va_)"
   ]
  },
  {
   "cell_type": "code",
   "execution_count": 10,
   "metadata": {},
   "outputs": [
    {
     "name": "stdout",
     "output_type": "stream",
     "text": [
      "123\n",
      "24219824\n"
     ]
    }
   ],
   "source": [
    "va_1A = 123\n",
    "print va_1A\n",
    "print id(va_1A)"
   ]
  },
  {
   "cell_type": "code",
   "execution_count": 11,
   "metadata": {},
   "outputs": [
    {
     "ename": "SyntaxError",
     "evalue": "invalid syntax (<ipython-input-11-73798570b7a6>, line 1)",
     "output_type": "error",
     "traceback": [
      "\u001b[1;36m  File \u001b[1;32m\"<ipython-input-11-73798570b7a6>\"\u001b[1;36m, line \u001b[1;32m1\u001b[0m\n\u001b[1;33m    2var=124\u001b[0m\n\u001b[1;37m       ^\u001b[0m\n\u001b[1;31mSyntaxError\u001b[0m\u001b[1;31m:\u001b[0m invalid syntax\n"
     ]
    }
   ],
   "source": [
    "2var=124\n",
    "print 2var"
   ]
  },
  {
   "cell_type": "code",
   "execution_count": 12,
   "metadata": {},
   "outputs": [
    {
     "ename": "SyntaxError",
     "evalue": "invalid syntax (<ipython-input-12-9fc57d9aa64a>, line 1)",
     "output_type": "error",
     "traceback": [
      "\u001b[1;36m  File \u001b[1;32m\"<ipython-input-12-9fc57d9aa64a>\"\u001b[1;36m, line \u001b[1;32m1\u001b[0m\n\u001b[1;33m    v@r =123\u001b[0m\n\u001b[1;37m     ^\u001b[0m\n\u001b[1;31mSyntaxError\u001b[0m\u001b[1;31m:\u001b[0m invalid syntax\n"
     ]
    }
   ],
   "source": [
    "v@r =123\n",
    "print v@r"
   ]
  },
  {
   "cell_type": "code",
   "execution_count": 13,
   "metadata": {},
   "outputs": [
    {
     "ename": "SyntaxError",
     "evalue": "invalid syntax (<ipython-input-13-28965cad32b4>, line 1)",
     "output_type": "error",
     "traceback": [
      "\u001b[1;36m  File \u001b[1;32m\"<ipython-input-13-28965cad32b4>\"\u001b[1;36m, line \u001b[1;32m1\u001b[0m\n\u001b[1;33m    while =123\u001b[0m\n\u001b[1;37m          ^\u001b[0m\n\u001b[1;31mSyntaxError\u001b[0m\u001b[1;31m:\u001b[0m invalid syntax\n"
     ]
    }
   ],
   "source": [
    "while =123\n",
    "print while"
   ]
  }
 ],
 "metadata": {
  "kernelspec": {
   "display_name": "Python 2",
   "language": "python",
   "name": "python2"
  },
  "language_info": {
   "codemirror_mode": {
    "name": "ipython",
    "version": 2
   },
   "file_extension": ".py",
   "mimetype": "text/x-python",
   "name": "python",
   "nbconvert_exporter": "python",
   "pygments_lexer": "ipython2",
   "version": "2.7.16"
  }
 },
 "nbformat": 4,
 "nbformat_minor": 2
}
