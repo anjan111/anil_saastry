{
 "cells": [
  {
   "cell_type": "markdown",
   "metadata": {},
   "source": [
    "#####  syntax\n",
    "\n",
    "===>>> the structure / rules for writing a program\n",
    "\n",
    "##### program\n",
    "\n",
    "===>>> collection / set of instruction to do any one specefic task\n",
    "\n",
    "##### instruction\n",
    "\n",
    "===>>> A line of code with in the program\n",
    "\n",
    "###### we have two types instructions\n",
    "\n",
    "1.  comment \n",
    "\n",
    "    ==>> An instruction which can't be executable\n",
    "    \n",
    "    ==>> to give the documentation each and every statement\n",
    "    \n",
    "    \n",
    "\n",
    "2.  statement\n",
    "\n",
    "    ==>> An instruction which can be executable\n",
    "    \n",
    "\n",
    "    "
   ]
  },
  {
   "cell_type": "code",
   "execution_count": 1,
   "metadata": {},
   "outputs": [
    {
     "name": "stdout",
     "output_type": "stream",
     "text": [
      "hello\n",
      "hai\n"
     ]
    }
   ],
   "source": [
    "# single line comment\n",
    "'''\n",
    "this is\n",
    "multiline \n",
    "comment\n",
    "'''\n",
    "print \"hello\" #statement\n",
    "print \"hai\" # statement"
   ]
  },
  {
   "cell_type": "markdown",
   "metadata": {},
   "source": [
    "##### keywords\n",
    "\n",
    "===>> which are already defined words --->> predefined words\n",
    "\n",
    "===>> each and every keyword which having it's specific task\n",
    "\n",
    "##### identifiers\n",
    "\n",
    "===>> which programmer defined words --->> user defined words\n",
    "\n",
    "===>> to give the name entities for variable / function and class\n",
    "\n",
    "###### Rules \n",
    "\n",
    "    ==>> we can use alphabets   a-z / A-Z\n",
    "    \n",
    "    ==>> we can use digits     0-9\n",
    "    \n",
    "    ==>> we can use underscore  _\n",
    "    \n",
    "    ==>> don't start with digit  0-9\n",
    "    \n",
    "    ==>> don't use keywords \n",
    "    \n",
    "    ==>> don't use special character   ~`!@#$%^&*(){}_+*?/'><,.\n",
    "\n",
    "\n",
    "\n",
    "\n",
    "\n",
    "\n",
    "\n"
   ]
  },
  {
   "cell_type": "code",
   "execution_count": 3,
   "metadata": {},
   "outputs": [
    {
     "name": "stdout",
     "output_type": "stream",
     "text": [
      "['and', 'as', 'assert', 'break', 'class', 'continue', 'def', 'del', 'elif', 'else', 'except', 'exec', 'finally', 'for', 'from', 'global', 'if', 'import', 'in', 'is', 'lambda', 'not', 'or', 'pass', 'print', 'raise', 'return', 'try', 'while', 'with', 'yield']\n"
     ]
    }
   ],
   "source": [
    "import keyword # import is a one keyword\n",
    "print keyword.kwlist"
   ]
  },
  {
   "cell_type": "markdown",
   "metadata": {},
   "source": [
    "###### variable \n",
    "\n",
    "==>> the names are used for to representation of memory location\n",
    "\n",
    "==>> to store the data with in memory loc\n",
    "\n",
    "==>> we can access the data from memory loc\n",
    "\n",
    "===>> we can use same rules of identifiers\n",
    "\n",
    "===>> we don't need to be declaration"
   ]
  },
  {
   "cell_type": "code",
   "execution_count": 4,
   "metadata": {},
   "outputs": [
    {
     "name": "stdout",
     "output_type": "stream",
     "text": [
      "123\n",
      "24219824\n"
     ]
    }
   ],
   "source": [
    "var =123\n",
    "print var\n",
    "print id(var)# memory loc"
   ]
  },
  {
   "cell_type": "code",
   "execution_count": 6,
   "metadata": {},
   "outputs": [
    {
     "name": "stdout",
     "output_type": "stream",
     "text": [
      "123\n",
      "24219824\n"
     ]
    }
   ],
   "source": [
    "VAR =123\n",
    "print VAR\n",
    "print id(VAR)\n"
   ]
  },
  {
   "cell_type": "code",
   "execution_count": 8,
   "metadata": {},
   "outputs": [
    {
     "name": "stdout",
     "output_type": "stream",
     "text": [
      "123\n",
      "24219824\n"
     ]
    }
   ],
   "source": [
    "_va_ =123\n",
    "print _va_\n",
    "print id(_va_)"
   ]
  },
  {
   "cell_type": "code",
   "execution_count": 10,
   "metadata": {},
   "outputs": [
    {
     "name": "stdout",
     "output_type": "stream",
     "text": [
      "123\n",
      "24219824\n"
     ]
    }
   ],
   "source": [
    "va_1A = 123\n",
    "print va_1A\n",
    "print id(va_1A)"
   ]
  },
  {
   "cell_type": "code",
   "execution_count": 11,
   "metadata": {},
   "outputs": [
    {
     "ename": "SyntaxError",
     "evalue": "invalid syntax (<ipython-input-11-73798570b7a6>, line 1)",
     "output_type": "error",
     "traceback": [
      "\u001b[1;36m  File \u001b[1;32m\"<ipython-input-11-73798570b7a6>\"\u001b[1;36m, line \u001b[1;32m1\u001b[0m\n\u001b[1;33m    2var=124\u001b[0m\n\u001b[1;37m       ^\u001b[0m\n\u001b[1;31mSyntaxError\u001b[0m\u001b[1;31m:\u001b[0m invalid syntax\n"
     ]
    }
   ],
   "source": [
    "2var=124\n",
    "print 2var"
   ]
  },
  {
   "cell_type": "code",
   "execution_count": 12,
   "metadata": {},
   "outputs": [
    {
     "ename": "SyntaxError",
     "evalue": "invalid syntax (<ipython-input-12-9fc57d9aa64a>, line 1)",
     "output_type": "error",
     "traceback": [
      "\u001b[1;36m  File \u001b[1;32m\"<ipython-input-12-9fc57d9aa64a>\"\u001b[1;36m, line \u001b[1;32m1\u001b[0m\n\u001b[1;33m    v@r =123\u001b[0m\n\u001b[1;37m     ^\u001b[0m\n\u001b[1;31mSyntaxError\u001b[0m\u001b[1;31m:\u001b[0m invalid syntax\n"
     ]
    }
   ],
   "source": [
    "v@r =123\n",
    "print v@r"
   ]
  },
  {
   "cell_type": "code",
   "execution_count": 13,
   "metadata": {},
   "outputs": [
    {
     "ename": "SyntaxError",
     "evalue": "invalid syntax (<ipython-input-13-28965cad32b4>, line 1)",
     "output_type": "error",
     "traceback": [
      "\u001b[1;36m  File \u001b[1;32m\"<ipython-input-13-28965cad32b4>\"\u001b[1;36m, line \u001b[1;32m1\u001b[0m\n\u001b[1;33m    while =123\u001b[0m\n\u001b[1;37m          ^\u001b[0m\n\u001b[1;31mSyntaxError\u001b[0m\u001b[1;31m:\u001b[0m invalid syntax\n"
     ]
    }
   ],
   "source": [
    "while =123\n",
    "print while"
   ]
  },
  {
   "cell_type": "markdown",
   "metadata": {},
   "source": [
    "###  Python datatype\n",
    "\n",
    "--->> datatypes are used for to specify the what type of data holded by variable\n",
    "\n",
    "1. fundamental daatatype\n",
    "\n",
    "--->> a single variable can hold only single data element\n",
    "\n",
    "    1. int\n",
    "    \n",
    "    2. float\n",
    "    \n",
    "    3. bool\n",
    "    \n",
    "    4. complex\n",
    "    \n",
    "    5. Nonetype\n",
    "\n",
    "2. sequencial datatype\n",
    "\n",
    "---->> A single variable can hold multiple data elements\n",
    "\n",
    "        1. str ---> \" \"\n",
    "        \n",
    "        2. list --> [ ]\n",
    "        \n",
    "        3. tuple --> ( )\n",
    "        \n",
    "        4. set ---> { }\n",
    "        \n",
    "        5. dict ---> { }"
   ]
  },
  {
   "cell_type": "code",
   "execution_count": 1,
   "metadata": {},
   "outputs": [
    {
     "data": {
      "text/plain": [
       "int"
      ]
     },
     "execution_count": 1,
     "metadata": {},
     "output_type": "execute_result"
    }
   ],
   "source": [
    "var = 123\n",
    "type(var)"
   ]
  },
  {
   "cell_type": "code",
   "execution_count": 2,
   "metadata": {},
   "outputs": [
    {
     "data": {
      "text/plain": [
       "float"
      ]
     },
     "execution_count": 2,
     "metadata": {},
     "output_type": "execute_result"
    }
   ],
   "source": [
    "var = 12.3444\n",
    "type(var)"
   ]
  },
  {
   "cell_type": "code",
   "execution_count": 3,
   "metadata": {},
   "outputs": [
    {
     "data": {
      "text/plain": [
       "bool"
      ]
     },
     "execution_count": 3,
     "metadata": {},
     "output_type": "execute_result"
    }
   ],
   "source": [
    "var = True\n",
    "type(var)"
   ]
  },
  {
   "cell_type": "code",
   "execution_count": 4,
   "metadata": {},
   "outputs": [
    {
     "data": {
      "text/plain": [
       "bool"
      ]
     },
     "execution_count": 4,
     "metadata": {},
     "output_type": "execute_result"
    }
   ],
   "source": [
    "var = False\n",
    "type(var)"
   ]
  },
  {
   "cell_type": "code",
   "execution_count": 5,
   "metadata": {},
   "outputs": [
    {
     "data": {
      "text/plain": [
       "complex"
      ]
     },
     "execution_count": 5,
     "metadata": {},
     "output_type": "execute_result"
    }
   ],
   "source": [
    "var = 3 + 4j\n",
    "type(var)"
   ]
  },
  {
   "cell_type": "code",
   "execution_count": 6,
   "metadata": {},
   "outputs": [
    {
     "data": {
      "text/plain": [
       "NoneType"
      ]
     },
     "execution_count": 6,
     "metadata": {},
     "output_type": "execute_result"
    }
   ],
   "source": [
    "var = None\n",
    "type(var)"
   ]
  },
  {
   "cell_type": "code",
   "execution_count": 7,
   "metadata": {},
   "outputs": [
    {
     "data": {
      "text/plain": [
       "str"
      ]
     },
     "execution_count": 7,
     "metadata": {},
     "output_type": "execute_result"
    }
   ],
   "source": [
    "var =\"soc\"\n",
    "type(var)"
   ]
  },
  {
   "cell_type": "code",
   "execution_count": 8,
   "metadata": {},
   "outputs": [
    {
     "data": {
      "text/plain": [
       "list"
      ]
     },
     "execution_count": 8,
     "metadata": {},
     "output_type": "execute_result"
    }
   ],
   "source": [
    "var =[12,4.3,5+3j]\n",
    "type(var)"
   ]
  },
  {
   "cell_type": "code",
   "execution_count": 9,
   "metadata": {},
   "outputs": [
    {
     "data": {
      "text/plain": [
       "tuple"
      ]
     },
     "execution_count": 9,
     "metadata": {},
     "output_type": "execute_result"
    }
   ],
   "source": [
    "var =(12,34,2.2)\n",
    "type(var)"
   ]
  },
  {
   "cell_type": "code",
   "execution_count": 10,
   "metadata": {},
   "outputs": [
    {
     "data": {
      "text/plain": [
       "set"
      ]
     },
     "execution_count": 10,
     "metadata": {},
     "output_type": "execute_result"
    }
   ],
   "source": [
    "var ={1,2,3,5}\n",
    "type(var)"
   ]
  },
  {
   "cell_type": "code",
   "execution_count": 11,
   "metadata": {},
   "outputs": [
    {
     "data": {
      "text/plain": [
       "dict"
      ]
     },
     "execution_count": 11,
     "metadata": {},
     "output_type": "execute_result"
    }
   ],
   "source": [
    "var = {12 : \"soc\" ,56:\"python\"}\n",
    "type(var)"
   ]
  },
  {
   "cell_type": "code",
   "execution_count": 12,
   "metadata": {},
   "outputs": [
    {
     "name": "stdout",
     "output_type": "stream",
     "text": [
      "enter some int : 789\n",
      "daata in var :  789\n",
      "<type 'int'>\n",
      "memory loc :  71005160\n"
     ]
    }
   ],
   "source": [
    "#input() --->> read the data from keyboard\n",
    "# print  --->> to display\n",
    "# id()   --->> to memory\n",
    "# type() --> datatype\n",
    "###### read int -->> display , type, memory\n",
    "var = input(\"enter some int : \")\n",
    "print \"daata in var : \",var\n",
    "print type(var)\n",
    "print \"memory loc : \",id(var)"
   ]
  },
  {
   "cell_type": "code",
   "execution_count": 13,
   "metadata": {},
   "outputs": [
    {
     "name": "stdout",
     "output_type": "stream",
     "text": [
      "enter some float : 78.6545\n",
      "daata in var :  78.6545\n",
      "<type 'float'>\n",
      "memory loc :  73332280\n"
     ]
    }
   ],
   "source": [
    "###### read float -->> display , type, memory\n",
    "var = input(\"enter some float : \")\n",
    "print \"daata in var : \",var\n",
    "print type(var)\n",
    "print \"memory loc : \",id(var)"
   ]
  },
  {
   "cell_type": "code",
   "execution_count": 15,
   "metadata": {},
   "outputs": [
    {
     "name": "stdout",
     "output_type": "stream",
     "text": [
      "enter some complex : 7+3j\n",
      "daata in var :  (7+3j)\n",
      "<type 'complex'>\n",
      "memory loc :  73832784\n"
     ]
    }
   ],
   "source": [
    "###### read complex -->> display , type, memory\n",
    "var = input(\"enter some complex : \")\n",
    "print \"daata in var : \",var\n",
    "print type(var)\n",
    "print \"memory loc : \",id(var)"
   ]
  },
  {
   "cell_type": "code",
   "execution_count": 16,
   "metadata": {},
   "outputs": [
    {
     "name": "stdout",
     "output_type": "stream",
     "text": [
      "enter some bool : True\n",
      "daata in var :  True\n",
      "<type 'bool'>\n",
      "memory loc :  1729281768\n"
     ]
    }
   ],
   "source": [
    "###### read bool -->> display , type, memory\n",
    "var = input(\"enter some bool : \")\n",
    "print \"daata in var : \",var\n",
    "print type(var)\n",
    "print \"memory loc : \",id(var)"
   ]
  },
  {
   "cell_type": "code",
   "execution_count": null,
   "metadata": {},
   "outputs": [],
   "source": [
    "# None , str, list, tuple, set, dict"
   ]
  }
 ],
 "metadata": {
  "kernelspec": {
   "display_name": "Python 2",
   "language": "python",
   "name": "python2"
  },
  "language_info": {
   "codemirror_mode": {
    "name": "ipython",
    "version": 2
   },
   "file_extension": ".py",
   "mimetype": "text/x-python",
   "name": "python",
   "nbconvert_exporter": "python",
   "pygments_lexer": "ipython2",
   "version": "2.7.16"
  }
 },
 "nbformat": 4,
 "nbformat_minor": 2
}
